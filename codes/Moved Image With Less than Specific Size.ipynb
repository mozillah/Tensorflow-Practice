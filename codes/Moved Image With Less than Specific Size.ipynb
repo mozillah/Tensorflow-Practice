{
 "cells": [
  {
   "cell_type": "code",
   "execution_count": 16,
   "id": "dea63b81",
   "metadata": {},
   "outputs": [],
   "source": [
    "import cv2\n",
    "import numpy as np\n",
    "import PIL\n",
    "from PIL import Image\n",
    "import matplotlib.pyplot as plt\n",
    "from datetime import datetime\n",
    "import os\n",
    "import glob\n",
    "import shutil "
   ]
  },
  {
   "cell_type": "code",
   "execution_count": 17,
   "id": "df98231b",
   "metadata": {},
   "outputs": [],
   "source": [
    "folderPath = r\"/home/transferlearningtoolkit/tlt-experiments/Data/Data/differentres/training\"\n",
    "images = os.path.join(folderPath, \"image_2\")\n",
    "labels = os.path.join(folderPath, \"label_2\")"
   ]
  },
  {
   "cell_type": "code",
   "execution_count": 18,
   "id": "31a838c3",
   "metadata": {},
   "outputs": [],
   "source": [
    "movedImages = os.path.join(folderPath, \"movedimage_2\")\n",
    "movedlabel = os.path.join(folderPath, \"movedlabel_2\")\n",
    "if not os.path.exists(movedImages):\n",
    "    os.makedirs(movedImages)\n",
    "if not os.path.exists(movedlabel):\n",
    "    os.makedirs(movedlabel)"
   ]
  },
  {
   "cell_type": "code",
   "execution_count": 22,
   "id": "d7993e35",
   "metadata": {},
   "outputs": [],
   "source": [
    "imageFiles = os.listdir(images)\n",
    "labelFiles = os.listdir(labels)"
   ]
  },
  {
   "cell_type": "code",
   "execution_count": 23,
   "id": "4924083f",
   "metadata": {},
   "outputs": [
    {
     "name": "stdout",
     "output_type": "stream",
     "text": [
      "/home/transferlearningtoolkit/tlt-experiments/Data/Data/differentres/training/image_2\n",
      "/home/transferlearningtoolkit/tlt-experiments/Data/Data/differentres/training/label_2\n"
     ]
    }
   ],
   "source": [
    "print(images)\n",
    "print(labels)"
   ]
  },
  {
   "cell_type": "code",
   "execution_count": 21,
   "id": "4809dd44",
   "metadata": {},
   "outputs": [
    {
     "name": "stdout",
     "output_type": "stream",
     "text": [
      " Image has widht = 427 and Height = 640\n",
      " Image has widht = 457 and Height = 640\n",
      " Image has widht = 433 and Height = 640\n",
      " Image has widht = 334 and Height = 500\n",
      " Image has widht = 427 and Height = 640\n",
      " Image has widht = 427 and Height = 640\n",
      " Image has widht = 424 and Height = 640\n",
      " Image has widht = 478 and Height = 640\n",
      " Image has widht = 424 and Height = 640\n",
      " Image has widht = 427 and Height = 640\n",
      " Image has widht = 425 and Height = 640\n",
      " Image has widht = 427 and Height = 640\n",
      " Image has widht = 438 and Height = 424\n",
      " Image has widht = 448 and Height = 279\n",
      " Image has widht = 640 and Height = 211\n",
      " Image has widht = 427 and Height = 640\n",
      " Image has widht = 443 and Height = 640\n",
      " Image has widht = 640 and Height = 218\n",
      " Image has widht = 414 and Height = 640\n",
      " Image has widht = 375 and Height = 500\n",
      " Image has widht = 427 and Height = 640\n",
      " Image has widht = 407 and Height = 482\n",
      " Image has widht = 460 and Height = 640\n",
      " Image has widht = 478 and Height = 640\n",
      " Image has widht = 425 and Height = 640\n",
      " Image has widht = 431 and Height = 500\n",
      " Image has widht = 427 and Height = 640\n",
      " Image has widht = 428 and Height = 640\n",
      " Image has widht = 427 and Height = 640\n",
      " Image has widht = 375 and Height = 500\n",
      " Image has widht = 332 and Height = 500\n",
      " Image has widht = 426 and Height = 640\n",
      " Image has widht = 375 and Height = 500\n",
      " Image has widht = 427 and Height = 640\n",
      " Image has widht = 427 and Height = 640\n",
      " Image has widht = 426 and Height = 640\n",
      " Image has widht = 427 and Height = 640\n",
      " Image has widht = 425 and Height = 640\n",
      " Image has widht = 431 and Height = 431\n",
      " Image has widht = 427 and Height = 640\n",
      " Image has widht = 478 and Height = 640\n",
      " Image has widht = 427 and Height = 640\n",
      " Image has widht = 478 and Height = 640\n",
      " Image has widht = 435 and Height = 640\n",
      " Image has widht = 428 and Height = 640\n",
      " Image has widht = 427 and Height = 640\n",
      " Image has widht = 333 and Height = 500\n",
      " Image has widht = 347 and Height = 500\n",
      " Image has widht = 424 and Height = 640\n",
      " Image has widht = 426 and Height = 640\n",
      " Image has widht = 375 and Height = 500\n",
      " Image has widht = 428 and Height = 640\n",
      " Image has widht = 427 and Height = 640\n",
      " Image has widht = 426 and Height = 640\n",
      " Image has widht = 375 and Height = 500\n",
      " Image has widht = 427 and Height = 640\n",
      " Image has widht = 427 and Height = 640\n",
      " Image has widht = 427 and Height = 640\n",
      " Image has widht = 425 and Height = 640\n",
      " Image has widht = 427 and Height = 640\n",
      " Image has widht = 433 and Height = 640\n",
      " Image has widht = 427 and Height = 640\n",
      " Image has widht = 425 and Height = 640\n",
      " Image has widht = 478 and Height = 640\n",
      " Image has widht = 427 and Height = 640\n",
      " Image has widht = 426 and Height = 640\n",
      " Image has widht = 425 and Height = 640\n",
      " Image has widht = 427 and Height = 640\n",
      " Image has widht = 448 and Height = 336\n",
      " Image has widht = 332 and Height = 500\n",
      " Image has widht = 359 and Height = 640\n",
      " Image has widht = 360 and Height = 640\n",
      " Image has widht = 379 and Height = 640\n",
      " Image has widht = 417 and Height = 640\n",
      " Image has widht = 375 and Height = 500\n",
      " Image has widht = 427 and Height = 640\n",
      " Image has widht = 478 and Height = 640\n",
      " Image has widht = 427 and Height = 640\n",
      " Image has widht = 375 and Height = 500\n",
      " Image has widht = 425 and Height = 640\n",
      " Image has widht = 360 and Height = 640\n",
      " Image has widht = 375 and Height = 500\n",
      " Image has widht = 427 and Height = 640\n",
      " Image has widht = 427 and Height = 640\n",
      " Image has widht = 427 and Height = 640\n",
      " Image has widht = 427 and Height = 640\n",
      " Image has widht = 333 and Height = 500\n",
      " Image has widht = 427 and Height = 640\n",
      " Image has widht = 375 and Height = 500\n",
      " Image has widht = 427 and Height = 640\n",
      " Image has widht = 427 and Height = 640\n",
      " Image has widht = 437 and Height = 640\n",
      " Image has widht = 427 and Height = 640\n",
      " Image has widht = 333 and Height = 500\n",
      " Image has widht = 429 and Height = 640\n"
     ]
    }
   ],
   "source": [
    "for image in imageFiles:\n",
    "    textFile = image[:-4]+\".txt\"\n",
    "    if textFile not in labelFiles:\n",
    "        print(labels)\n",
    "        print(image[:-4])\n",
    "        continue\n",
    "    imageName = os.path.join(images,image)\n",
    "    labelFile = os.path.join(labels,textFile)\n",
    "    imageToPredict = cv2.imread(imageName)\n",
    "    imWidth = imageToPredict.shape[1]\n",
    "    imHeight = imageToPredict.shape[0]\n",
    "    output_image_width = 480\n",
    "    output_image_height = 272\n",
    "    if imWidth < output_image_width or imHeight < output_image_height:\n",
    "        print(f\" Image has width = {imWidth} and Height = {imHeight}\")\n",
    "        destinationimage =os.path.join(movedImages,image)\n",
    "        destinationlabel =os.path.join(movedlabel,textFile)\n",
    "        destImg = shutil.move(imageName, destinationimage) \n",
    "        destLbl = shutil.move(labelFile, destinationlabel) "
   ]
  }
 ],
 "metadata": {
  "kernelspec": {
   "display_name": "Python 3",
   "language": "python",
   "name": "python3"
  },
  "language_info": {
   "codemirror_mode": {
    "name": "ipython",
    "version": 3
   },
   "file_extension": ".py",
   "mimetype": "text/x-python",
   "name": "python",
   "nbconvert_exporter": "python",
   "pygments_lexer": "ipython3",
   "version": "3.6.9"
  }
 },
 "nbformat": 4,
 "nbformat_minor": 5
}
