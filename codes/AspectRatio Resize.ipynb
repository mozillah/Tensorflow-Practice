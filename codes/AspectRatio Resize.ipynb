{
 "cells": [
  {
   "cell_type": "code",
   "execution_count": 120,
   "id": "2cce36b8",
   "metadata": {},
   "outputs": [],
   "source": [
    "import cv2\n",
    "import numpy as np\n",
    "import PIL\n",
    "from PIL import Image\n",
    "import matplotlib.pyplot as plt\n",
    "from datetime import datetime\n",
    "import os\n",
    "import glob\n",
    "import imutils"
   ]
  },
  {
   "cell_type": "code",
   "execution_count": 122,
   "id": "899ea175",
   "metadata": {},
   "outputs": [],
   "source": [
    "def resize2SquareKeepingAspectRation(img, size, interpolation):\n",
    "    h, w = img.shape[:2]\n",
    "    c = None if len(img.shape) < 3 else img.shape[2]\n",
    "    if h == w: return cv2.resize(img, (size[0], size[1]), interpolation)\n",
    "    if h > w: dif = h\n",
    "    else:     dif = w\n",
    "    x_pos = int((dif - w)/2.)\n",
    "    y_pos = int((dif - h)/2.)\n",
    "    if c is None:\n",
    "        mask = np.zeros((dif, dif), dtype=img.dtype)\n",
    "        mask[y_pos:y_pos+h, x_pos:x_pos+w] = img[:h, :w]\n",
    "    else:\n",
    "        mask = np.zeros((dif, dif, c), dtype=img.dtype)\n",
    "        mask[y_pos:y_pos+h, x_pos:x_pos+w, :] = img[:h, :w, :]\n",
    "    print(mask)\n",
    "    return cv2.resize(mask, (size[0], size[1]), interpolation)"
   ]
  },
  {
   "cell_type": "code",
   "execution_count": null,
   "id": "fea4d92e",
   "metadata": {},
   "outputs": [],
   "source": []
  },
  {
   "cell_type": "code",
   "execution_count": null,
   "id": "3f35cc8e",
   "metadata": {},
   "outputs": [],
   "source": []
  },
  {
   "cell_type": "code",
   "execution_count": null,
   "id": "ee5190ab",
   "metadata": {},
   "outputs": [],
   "source": []
  },
  {
   "cell_type": "code",
   "execution_count": null,
   "id": "e7f2120c",
   "metadata": {},
   "outputs": [],
   "source": [
    "def image_resize(image, width = None, height = None, inter = cv2.INTER_AREA):\n",
    "    # initialize the dimensions of the image to be resized and\n",
    "    # grab the image size\n",
    "    dim = None\n",
    "    (h, w) = image.shape[:2]\n",
    "\n",
    "    # if both the width and height are None, then return the\n",
    "    # original image\n",
    "    if width is None and height is None:\n",
    "        return image\n",
    "\n",
    "    # check to see if the width is None\n",
    "    if width is None:\n",
    "        # calculate the ratio of the height and construct the\n",
    "        # dimensions\n",
    "        r = height / float(h)\n",
    "        dim = (int(w * r), height)\n",
    "    \n",
    "#     elif width is not None and height is not None:\n",
    "#         r = width / float(w)\n",
    "#         hh= int(h*r)\n",
    "#         r = height /float(h)\n",
    "#         ww = int(w * r)\n",
    "#         dim =(ww,hh)\n",
    "        \n",
    "    # otherwise, the height is None\n",
    "    else:\n",
    "        # calculate the ratio of the width and construct the\n",
    "        # dimensions\n",
    "        r = width / float(w)\n",
    "        \n",
    "        dim = (width, int(h * r))\n",
    "\n",
    "    # resize the image\n",
    "    resized = cv2.resize(image, dim, interpolation = inter)\n",
    "\n",
    "    # return the resized image\n",
    "    return resized"
   ]
  },
  {
   "cell_type": "code",
   "execution_count": null,
   "id": "d126c45f",
   "metadata": {},
   "outputs": [],
   "source": [
    "folderPath = r\"/home/transferlearningtoolkit/tlt-experiments/Data/Data/differentres/training\"\n",
    "images = os.path.join(folderPath, \"image_2\")\n",
    "labels = os.path.join(folderPath, \"label_2\")\n",
    "convertedimages = os.path.join(folderPath, \"convertedimage_2\")\n",
    "convertedlabel = os.path.join(folderPath, \"convertedlabel_2\")\n",
    "if not os.path.exists(convertedimages):\n",
    "    os.makedirs(convertedimages)\n",
    "if not os.path.exists(convertedlabel):\n",
    "    os.makedirs(convertedlabel)"
   ]
  },
  {
   "cell_type": "code",
   "execution_count": null,
   "id": "30c755b4",
   "metadata": {},
   "outputs": [],
   "source": [
    "imageFiles = os.listdir(images)\n",
    "labelFiles = os.listdir(labels)"
   ]
  },
  {
   "cell_type": "code",
   "execution_count": null,
   "id": "cecf38a7",
   "metadata": {},
   "outputs": [],
   "source": [
    "print(images)\n",
    "print(labels)"
   ]
  },
  {
   "cell_type": "code",
   "execution_count": null,
   "id": "d203b56e",
   "metadata": {},
   "outputs": [],
   "source": [
    "def drawBox(boxes, image):\n",
    "    print(boxes)\n",
    "    for i in range(0, len(boxes)):\n",
    "        cv2.rectangle(image, (boxes[i][2], boxes[i][3]), (boxes[i][4], boxes[i][5]), (255, 0, 0), 1)\n",
    "    plt.imshow(image)\n",
    "    plt.show()"
   ]
  },
  {
   "cell_type": "code",
   "execution_count": null,
   "id": "cfbfa87c",
   "metadata": {},
   "outputs": [],
   "source": [
    "def resize_with_padding(img, expected_size):\n",
    "    print(img.size)\n",
    "    img.thumbnail((expected_size[0], expected_size[1]))\n",
    "    delta_width = expected_size[0] - img.size[0]\n",
    "    delta_height = expected_size[1] - img.size[1]\n",
    "    print(delta_width)\n",
    "    print(delta_height)\n",
    "    pad_width = delta_width // 2\n",
    "    pad_height = delta_height // 2\n",
    "    print(pad_width)\n",
    "    print(pad_height)\n",
    "    padding = (pad_width, pad_height, delta_width - pad_width, delta_height - pad_height)\n",
    "    return ImageOps.expand(img, padding)"
   ]
  },
  {
   "cell_type": "code",
   "execution_count": null,
   "id": "09dbc7e4",
   "metadata": {},
   "outputs": [],
   "source": [
    "targetSize1 = 480\n",
    "targetSize2 = 272\n",
    "size = (targetSize1,targetSize2)\n",
    "for image in imageFiles:\n",
    "    if image[:-4]+\".txt\" not in labelFiles:\n",
    "        print(labels)\n",
    "        print(image[:-4])\n",
    "        continue\n",
    "    imageName = os.path.join(images,image)\n",
    "    labelFile = os.path.join(labels,image[:-4]+\".txt\")\n",
    "    convertedimageFile = os.path.join(convertedimages,image)\n",
    "    convertedlabelFile = os.path.join(convertedlabel,image[:-4]+\".txt\")\n",
    "    imageToPredict = cv2.imread(imageName)\n",
    "    #print(imageToPredict.shape)\n",
    "    x_ = imageToPredict.shape[1]\n",
    "    y_ = imageToPredict.shape[0]\n",
    "    image = resize2SquareKeepingAspectRation(imageToPredict, size, cv2.INTER_AREA)\n",
    "#     image = image_resize(imageToPredict, width = 480,height=272)\n",
    "    #print(labelFile)\n",
    "    targetSize1= image.shape[1]\n",
    "    targetSize2= image.shape[0]\n",
    "    print(image.shape)\n",
    "#     riiesized = resize2SquareKeepingAspectRation(imageToPredict, size, cv2.INTER_AREA)\n",
    "#     img = cv2.resize(imageToPredict, (targetSize1, targetSize2));\n",
    "    x_scale = targetSize1 / x_\n",
    "    y_scale = targetSize2 / y_\n",
    "    #print(img.shape)\n",
    "    img = np.array(image);\n",
    "    file = open(convertedlabelFile, 'w')\n",
    "    cv2.imwrite(convertedimageFile,img)\n",
    "    with open(labelFile, 'r') as reader:\n",
    "        line = reader.readline()\n",
    "        bboxes=[]\n",
    "        while line != '':  # The EOF char is an empty string\n",
    "            # print(line, end='\\n')\n",
    "            lists=line.split( )\n",
    "            name = lists[0]\n",
    "            bbox =lists[4:8]\n",
    "            bbox_ = [int(float(i)) for i in bbox]\n",
    "            # original frame as named values\n",
    "            xmin = int(np.round(bbox_[0] * x_scale))\n",
    "            ymin = int(np.round(bbox_[1] * y_scale))\n",
    "            xmax = int(np.round(bbox_[2] * x_scale))\n",
    "            ymax = int(np.round(bbox_[3] * y_scale))\n",
    "            # Box.drawBox([[1, 0, x, y, xmax, ymax]], img)\n",
    "            drawBox([[1, 0, xmin, ymin, xmax, ymax]], img)\n",
    "            bboxes.append(bbox_)\n",
    "            writte =  f\"{name} 0.00 0 0.0 {xmin}.00 {ymin}.00 {xmax}.00 {ymax}.00 0.0 0.0 0.0 0.0 0.0 0.0 0.0\"\n",
    "            file.write(writte)\n",
    "            line = reader.readline()\n",
    "            if line !='':\n",
    "                file.write(\"\\n\")\n",
    "    file.close()"
   ]
  },
  {
   "cell_type": "code",
   "execution_count": null,
   "id": "6d445084",
   "metadata": {},
   "outputs": [],
   "source": [
    "# im_path = r\"/home/facit/Desktop/peter-broomfield-m3m-lnR90uM-unsplash.jpg\"\n",
    "# im_pth = r\"/home/facit/Downloads/Padded-Image-Resizer-master/Input/image (38).jpg\"\n",
    "\n",
    "# img = cv2.imread(im_pth)\n",
    "# size= (480,272)\n",
    "# image = image_resize(img, width = 480,height=272)\n",
    "# plt.imshow(image)"
   ]
  },
  {
   "cell_type": "code",
   "execution_count": null,
   "id": "58e73c1c",
   "metadata": {},
   "outputs": [],
   "source": []
  }
 ],
 "metadata": {
  "kernelspec": {
   "display_name": "Python 3",
   "language": "python",
   "name": "python3"
  },
  "language_info": {
   "codemirror_mode": {
    "name": "ipython",
    "version": 3
   },
   "file_extension": ".py",
   "mimetype": "text/x-python",
   "name": "python",
   "nbconvert_exporter": "python",
   "pygments_lexer": "ipython3",
   "version": "3.6.9"
  }
 },
 "nbformat": 4,
 "nbformat_minor": 5
}
