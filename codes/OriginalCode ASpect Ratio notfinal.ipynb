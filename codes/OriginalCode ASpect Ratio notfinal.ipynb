{
 "cells": [
  {
   "cell_type": "code",
   "execution_count": null,
   "metadata": {},
   "outputs": [],
   "source": [
    "def imageToAspectRatio(img):\n",
    "    im_path = img\n",
    "#     ratio_output= (480,272)\n",
    "    img = cv2.imread(im_path)\n",
    "    ratio_output= (480,272)\n",
    "    x_ = img.shape[1]\n",
    "    y_ = img.shape[0]\n",
    "    input_image_size= (x_,y_)\n",
    "    output_img_size = prop(input_image_size, ratio_output, show_results=True)\n",
    "    color = [101, 52, 152] # 'cause purple!\n",
    "#     xmin,ymin,xmax,ymax =  128, 25, 447, 375  \n",
    "    (origLeft, origTop, origRight, origBottom) = (160, 35, 555, 470)\n",
    "    top, bottom = 0 ,0\n",
    "    right = output_img_size[0] - x_\n",
    "    bottom = output_img_size[1] - y_\n",
    "    targetSize1 = output_img_size[0]\n",
    "    targetSize2 = output_img_size[1]\n",
    "    x_scale = targetSize1 / x_\n",
    "    y_scale = targetSize2 / y_\n",
    "    img_with_border = cv2.copyMakeBorder(img,0,bottom, 0, right, cv2.BORDER_CONSTANT, value=color)\n",
    "    x = int(np.round(origLeft * x_scale))\n",
    "    y = int(np.round(origTop * y_scale))\n",
    "    xmax = int(np.round(origRight * x_scale))\n",
    "    ymax = int(np.round(origBottom * y_scale))\n",
    "    boxes=[[1, 0, x, y, xmax, ymax]]\n",
    "    for i in range(0, len(boxes)):\n",
    "        cv2.rectangle(img_with_border, (boxes[i][2], boxes[i][3]), (boxes[i][4], boxes[i][5]), (255, 255, 255), 1)\n",
    "    cv2.imwrite(\"padded.jpg\",img_with_border[:,:,::-1])\n",
    "    img = cv2.resize(img_with_border, ratio_output);\n",
    "#     x_ = img.shape[1]\n",
    "#     y_ = img.shape[0]\n",
    "    x_scale = ratio_output[0] / targetSize1\n",
    "    y_scale = ratio_output[1]  / targetSize2\n",
    "    x = int(np.round(x * x_scale))\n",
    "    y = int(np.round(y * y_scale))\n",
    "    xmax = int(np.round(xmax * x_scale))\n",
    "    ymax = int(np.round(ymax * y_scale))\n",
    "    boxes=[[1, 0, x, y, xmax, ymax]]\n",
    "    for i in range(0, len(boxes)):\n",
    "        cv2.rectangle(img, (boxes[i][2], boxes[i][3]), (boxes[i][4], boxes[i][5]), (255, 255, 255), 1)\n",
    "    plt.imshow(img[:,:,::-1])\n",
    "    cv2.imwrite(\"paddedaspect.jpg\",img[:,:,::-1])"
   ]
  }
 ],
 "metadata": {
  "kernelspec": {
   "display_name": "Python 3",
   "language": "python",
   "name": "python3"
  },
  "language_info": {
   "codemirror_mode": {
    "name": "ipython",
    "version": 3
   },
   "file_extension": ".py",
   "mimetype": "text/x-python",
   "name": "python",
   "nbconvert_exporter": "python",
   "pygments_lexer": "ipython3",
   "version": "3.8.5"
  }
 },
 "nbformat": 4,
 "nbformat_minor": 5
}
