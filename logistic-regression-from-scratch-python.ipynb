{
 "cells": [
  {
   "cell_type": "markdown",
   "metadata": {
    "_uuid": "dd577b37b0fa2d5115a7815e0f8c1198797c5bc4"
   },
   "source": [
    "<center><h1>Logistic Regression from scratch using Python</h1>By: Jepp Bautista</center>"
   ]
  },
  {
   "cell_type": "markdown",
   "metadata": {
    "_uuid": "c347c13b12827484ef7f61cf5bc9ac752feaf0f4"
   },
   "source": [
    "![Foo](https://imgur.com/10nqpqw.png)"
   ]
  },
  {
   "cell_type": "markdown",
   "metadata": {
    "_uuid": "5bfb1bf45a1dbe94fe3ea071abeb57f962b0f285"
   },
   "source": [
    "![](https://imgur.com/Bw5gMJX.jpg)\n"
   ]
  },
  {
   "cell_type": "markdown",
   "metadata": {
    "_uuid": "e0c1623d0db8166d7d7f526c13dd33b970859de3"
   },
   "source": [
    "In this notebook I will try to implement a Logistic Regression without relying to Python's easy-to-use [scikit-learn](http://scikit-learn.org/stable/modules/generated/sklearn.linear_model.LogisticRegression.html) library. This notebook aims to create a Logistic Regression without the help of in-built Logistic Regression libraries to help us fully understand how Logistic Regression works in the background. <br>**Beware: Mathematical mumbo-jumbos are present in this notebook**"
   ]
  },
  {
   "cell_type": "markdown",
   "metadata": {
    "_uuid": "1179c12c799ce098574eed13af9bedb2c98c9e4b"
   },
   "source": [
    "<h2>Introduction: What is Logistic Regression?<br></h2>\n",
    "Logistic regression is a regression analysis that predicts the probability of an outcome that can only have two values (i.e. a dichotomy). A logistic regression produces a logistic curve, which is limited to values between 0 and 1. Logistic regression models the probability that each input belongs to a particular category. For this particular notebook we will try to predict whether a customer will churn using a Logistic Regression.<br><br>\n",
    "**Prerequisites:**\n",
    "1. Python knowledge\n",
    "1. Atleast basic differential calculus \n",
    "1. Matrix algebra\n"
   ]
  },
  {
   "cell_type": "code",
   "execution_count": null,
   "metadata": {
    "_uuid": "5097943f58f3195124bba1c97ec8dbe124ecdc17"
   },
   "outputs": [],
   "source": [
    "import pandas as pd\n",
    "import numpy as np\n",
    "import matplotlib.pyplot as plt\n",
    "from plotly.offline import download_plotlyjs, init_notebook_mode, plot, iplot\n",
    "import plotly as py\n",
    "import plotly.graph_objs as go\n",
    "import time\n",
    "\n",
    "init_notebook_mode(connected=True)   "
   ]
  },
  {
   "cell_type": "markdown",
   "metadata": {
    "_uuid": "c3c513a51d9ec462e235253a0ee7296962cad209"
   },
   "source": [
    "<h2>Objectives:<br></h2>\n",
    "* To learn the theory behind Logistic Regression (Mathematical part, ugh).\n",
    "* To be able to implement the Logistic Regression without using built-in Logistic Regression libraries.\n",
    "* To be able to predict whether a customer will churn or not.\n"
   ]
  },
  {
   "cell_type": "markdown",
   "metadata": {
    "_uuid": "5c44a58af55b399e077e2898ad72a0bc1be0ead0"
   },
   "source": [
    "<h2>Logistic Regression behind the mask</h2>"
   ]
  },
  {
   "cell_type": "markdown",
   "metadata": {
    "_uuid": "72b742e25454cf61879ccffe38948b8f8c8979e5"
   },
   "source": [
    "Before we start coding let us first understand or atleast try to understand the things happening at the back-end of Logistic Regression. The aim of this section, **Logistic Regression behind the mask** is to explain the math behind Logistic Regression and to accomplish the first objective of this kernel. To be able to do this we must answer the question, how does a Logistic Regression work? In theory, a Logistic regression takes input and returns an output of probability, a value between 0 and 1. How does a Logistic Regression do that? With the help of a function called a *logistic function* or most commonly known as a *sigmoid*. This sigmoid function is reponsible for *predicting* or classifying a given input.\n",
    "Logistic function or sigmoid is defined as:\n",
    "![](https://imgur.com/Bw5gMJX.jpg)\n",
    "Where:\n",
    "* *e* = Euler's number which is **2.71828**.\n",
    "* *x0* = the value of the sigmoid's midpoint on the x-axis.\n",
    "* *L* = the maximum value.\n",
    "* *k* = steepness of the curve."
   ]
  },
  {
   "cell_type": "markdown",
   "metadata": {
    "_uuid": "f53a66e11f60f4effcf15ac1a57dedfdeb30f6b6"
   },
   "source": [
    "For Logistic Regression however here is the definition of the logistic function:<br>\n",
    "![](https://imgur.com/903IYoN.jpg)\n",
    "Where:\n",
    "* Θ = is the weight."
   ]
  },
  {
   "cell_type": "markdown",
   "metadata": {
    "_uuid": "a3d1a7e169b256ffbc800713aa5c97c197ec0ec9"
   },
   "source": [
    "In python code:"
   ]
  },
  {
   "cell_type": "code",
   "execution_count": null,
   "metadata": {
    "_uuid": "098959420fb8067564d2d19d50c4374ce9b38836"
   },
   "outputs": [],
   "source": [
    "def sigmoid(X, weight):\n",
    "    z = np.dot(X, weight)\n",
    "    return 1 / (1 + np.exp(-z))"
   ]
  },
  {
   "cell_type": "markdown",
   "metadata": {
    "_uuid": "1cd6e3357876ac3155aed874421dd53b2bef9b34"
   },
   "source": [
    "From here, there are two common ways to approach the optimization of the Logistic Regression. One is through loss minimizing with the use of **gradient descent** and the other is with the use of **Maximum Likelihood Estimation**. I will try to explain these two in the following sections."
   ]
  },
  {
   "cell_type": "markdown",
   "metadata": {
    "_uuid": "dfccfb4c98df84d92709f1e8b12a574ef9bdd2a8"
   },
   "source": [
    "<h4>1. Loss minimizing</h4><br>\n",
    "Weights (represented by theta in our notation) is a vital part of Logistic Regression and other Machine Learning algorithms and we want to find the best values for them. To start we pick random values and we need a way to measure how well the algorithm performs using those random weights. That measure is computed using the loss function. [[1]](https://medium.com/@martinpella/logistic-regression-from-scratch-in-python-124c5636b8ac) <br><br>\n",
    "The loss function is defined as:\n",
    "![](https://imgur.com/riDHhZS.jpg)\n",
    "Where:\n",
    "* m = the number of samples\n",
    "* y = the target class"
   ]
  },
  {
   "cell_type": "markdown",
   "metadata": {
    "_uuid": "5c7e9633a4ddb223a3aab559ea3f5668190a5488"
   },
   "source": [
    "In python:"
   ]
  },
  {
   "cell_type": "code",
   "execution_count": null,
   "metadata": {
    "_uuid": "b4143de23fd832463c63513fbbc2fa0ad6b8d02a"
   },
   "outputs": [],
   "source": [
    "def loss(h, y):\n",
    "    return (-y * np.log(h) - (1 - y) * np.log(1 - h)).mean()"
   ]
  },
  {
   "cell_type": "markdown",
   "metadata": {
    "_uuid": "ccf9e386d02e0e7df69d01d04f4a51b4b49f6865"
   },
   "source": [
    "The goal is to **minimize the loss**  by means of increasing or decreasing the weights, which is commonly called fitting. Which weights should be bigger and which should be smaller? This can be decided by a function called **Gradient descent**. The Gradient descent is just the derivative of the loss function with respect to its weights. Below links explains how Gradient descent is derived (I'm just too lazy to explain it): <br>\n",
    "* [https://ml-cheatsheet.readthedocs.io/en/latest/gradient_descent.html#step-by-step](https://ml-cheatsheet.readthedocs.io/en/latest/gradient_descent.html#step-by-step)\n",
    "* [http://mccormickml.com/2014/03/04/gradient-descent-derivation/](http://mccormickml.com/2014/03/04/gradient-descent-derivation/)"
   ]
  },
  {
   "cell_type": "markdown",
   "metadata": {
    "_uuid": "a939565adc6ea8906c14677203129d90ca8e234a"
   },
   "source": [
    "![](https://imgur.com/rBVzJbt.jpg)\n",
    "The weights are updated by substracting the derivative (gradient descent) times the learning rate, as defined below:\n",
    "![](https://imgur.com/TAIpnwI.jpg)\n",
    "Where:\n",
    "* α = learning rate (usually 0.1)"
   ]
  },
  {
   "cell_type": "markdown",
   "metadata": {
    "_uuid": "4b36be477a76bef52607e3941ab8063b09b84d97"
   },
   "source": [
    "In python:"
   ]
  },
  {
   "cell_type": "code",
   "execution_count": null,
   "metadata": {
    "_uuid": "ae89d7d2a0018f52d75a3e555fbeff4128518933"
   },
   "outputs": [],
   "source": [
    "def gradient_descent(X, h, y):\n",
    "    return np.dot(X.T, (h - y)) / y.shape[0]\n",
    "def update_weight_loss(weight, learning_rate, gradient):\n",
    "    return weight - learning_rate * gradient"
   ]
  },
  {
   "cell_type": "markdown",
   "metadata": {
    "_uuid": "9618558cc40298f400ddb84c3b0f550e043f2b16"
   },
   "source": [
    "So, we've finished covering one of the steps on LR optimization **Loss minimization** with the use of gradient descent. We will now jump to maximum likelihood estimation."
   ]
  },
  {
   "cell_type": "markdown",
   "metadata": {
    "_uuid": "96a6b8095ac04176264ff3dee14c16748e21a0d7"
   },
   "source": [
    "<h4>2. Maximum likelihood estimation</h4><br>\n",
    "One step to optimize logistic regression is through likelihood estimation, the goal here is to **maximize the likelihood** we can achieve this through Gradient ascent, not to be mistaken from gradient descent. Gradient ascent is the same as gradient descent, except its goal is to maximize a function rather than minimizing it.<br>\n",
    "Maximum likelihood:\n",
    "![](https://imgur.com/VCU0TKj.jpg)\n",
    "z is defined above"
   ]
  },
  {
   "cell_type": "markdown",
   "metadata": {
    "_uuid": "f29173d95670aef1293178f8906a1ba4a2ad1213"
   },
   "source": [
    "In python:"
   ]
  },
  {
   "cell_type": "code",
   "execution_count": null,
   "metadata": {
    "_uuid": "ee1e02db124e850c9f8de411c67f503e41d342e4"
   },
   "outputs": [],
   "source": [
    "def log_likelihood(x, y, weights):\n",
    "    z = np.dot(x, weights)\n",
    "    ll = np.sum( y*z - np.log(1 + np.exp(z)) )\n",
    "    return ll"
   ]
  },
  {
   "cell_type": "markdown",
   "metadata": {
    "_uuid": "57d94c7eedeb26682fb77fc10b7cd93d5f74e285"
   },
   "source": [
    "Now, the gradient of the log likelihood is the derivative of the log likelihood function. The full derivation of the maximum likelihood estimator can be found [here](https://www.analyticsvidhya.com/blog/2015/10/basics-logistic-regression/) (too lazy to explain again).\n",
    "![](https://imgur.com/Uvo3rPv.jpg)\n",
    "The weights are now updated by adding the derivative (gradient ascent) times the learning rate, as defined below:\n",
    "![](https://imgur.com/hIB0LQ0.jpg)"
   ]
  },
  {
   "cell_type": "code",
   "execution_count": null,
   "metadata": {
    "_uuid": "96882de87d77d132ef7a8af92d5f8a0fad66e6a3"
   },
   "outputs": [],
   "source": [
    "def gradient_ascent(X, h, y):\n",
    "    return np.dot(X.T, y - h)\n",
    "def update_weight_mle(weight, learning_rate, gradient):\n",
    "    return weight + learning_rate * gradient"
   ]
  },
  {
   "cell_type": "markdown",
   "metadata": {
    "_uuid": "a513305cc64457e2c767a37b6cbec9309e3ba74d"
   },
   "source": [
    "Now I think we're done understanding the math behind Logistic Regression, just a recap:<br>\n",
    "1. We learned that Logistic Regression can be used for Classification because the output is a number between 0 and 1.\n",
    "1. We understood the two common ways of optimizing Logistic Regression, minimizing the loss and the other is maximizing the likelihood.\n",
    "1. We learned the difference between Gradient descent and gradient ascent.<br>\n",
    "\n",
    "If you want to add more, or if there's something wrong with the things I stated above or you want to share an improvement, please feel free to leave a comment."
   ]
  },
  {
   "cell_type": "markdown",
   "metadata": {
    "_uuid": "f897ed8cf84f384c191467925e461d3a68f35a76"
   },
   "source": [
    "Looks like we've completed our first objective, let's get to coding now."
   ]
  },
  {
   "cell_type": "markdown",
   "metadata": {
    "_uuid": "8e8153c1c9b4f6b1bd322706f7beaff15b0793aa"
   },
   "source": [
    "<h2>Python implementation</h2>"
   ]
  },
  {
   "cell_type": "markdown",
   "metadata": {
    "_uuid": "3273a6783fc1b51032d5ac6282ba8b083f6ee5c0"
   },
   "source": [
    "Let us now start implementing what we learned from the previous section into python codes. We will use the Telco Customer Churn data ofcourse, by the end of this section we will be able to make predictions using our \"home-made\" Logistic Regression."
   ]
  },
  {
   "cell_type": "markdown",
   "metadata": {
    "_uuid": "6bad8a2a7bb329186fa9d53b0fbdca646ecb13ae"
   },
   "source": [
    "**Dataset initialization**"
   ]
  },
  {
   "cell_type": "code",
   "execution_count": null,
   "metadata": {
    "_uuid": "d7723b475a93783962f05ffdb404eabd59c5a335"
   },
   "outputs": [],
   "source": [
    "data = pd.read_csv(\"../input/WA_Fn-UseC_-Telco-Customer-Churn.csv\")\n",
    "print(\"Dataset size\")\n",
    "print(\"Rows {} Columns {}\".format(data.shape[0], data.shape[1]))"
   ]
  },
  {
   "cell_type": "code",
   "execution_count": null,
   "metadata": {
    "_uuid": "7605b4f1b5ec77fb1efc592295339da27f4fe01e",
    "scrolled": false
   },
   "outputs": [],
   "source": [
    "print(\"Columns and data types\")\n",
    "pd.DataFrame(data.dtypes).rename(columns = {0:'dtype'})"
   ]
  },
  {
   "cell_type": "code",
   "execution_count": null,
   "metadata": {
    "_uuid": "d267dec8e9e139dcbeb17d1b7f371e44d64f392b"
   },
   "outputs": [],
   "source": [
    "df = data.copy()"
   ]
  },
  {
   "cell_type": "markdown",
   "metadata": {
    "_uuid": "d8b971a323629fffe8e27aa09f2eae1b0f05e0a6"
   },
   "source": [
    "That's a lot of columns, to simplify our experiment we will only use 2 features **tenure** and **MonthlyCharges** and the target would be **Churn**  ofcourse. Let us do a simple EDA and visualization on our features and target."
   ]
  },
  {
   "cell_type": "markdown",
   "metadata": {
    "_uuid": "074b7104853ee4f2064798f58df4682a5fc9ab12"
   },
   "source": [
    "<h3>EDA: Independent variables</h3>"
   ]
  },
  {
   "cell_type": "code",
   "execution_count": null,
   "metadata": {
    "_uuid": "b224a46fdf2d9dc78c97245cccb0246441f7147b",
    "scrolled": false
   },
   "outputs": [],
   "source": [
    "churns = [\"Yes\", \"No\"]\n",
    "fig = {\n",
    "    'data': [\n",
    "        {\n",
    "            'x': df.loc[(df['Churn']==churn), 'MonthlyCharges'] ,\n",
    "            'y': df.loc[(df['Churn']==churn),'tenure'],\n",
    "            'name': churn, 'mode': 'markers',\n",
    "        } for churn in churns\n",
    "    ],\n",
    "    'layout': {\n",
    "        'title': 'Tenure vs Monthly Charges',\n",
    "        'xaxis': {'title': 'Monthly Charges'},\n",
    "        'yaxis': {'title': \"Tenure\"}\n",
    "    }\n",
    "}\n",
    "\n",
    "py.offline.iplot(fig)"
   ]
  },
  {
   "cell_type": "code",
   "execution_count": null,
   "metadata": {
    "_uuid": "b4c4553c27912a182331f3664aafd7aaf457d4ae"
   },
   "outputs": [],
   "source": [
    "figs = []\n",
    "\n",
    "for churn in churns:\n",
    "    figs.append(\n",
    "        go.Box(\n",
    "            y = df.loc[(df['Churn']==churn),'tenure'],\n",
    "            name = churn\n",
    "        )\n",
    "    )\n",
    "layout = go.Layout(\n",
    "    title = \"Tenure\",\n",
    "    xaxis = {\"title\" : \"Churn?\"},\n",
    "    yaxis = {\"title\" : \"Tenure\"},\n",
    "    width=800,\n",
    "    height=500\n",
    ")\n",
    "\n",
    "fig = go.Figure(data=figs, layout=layout)\n",
    "py.offline.iplot(fig)"
   ]
  },
  {
   "cell_type": "code",
   "execution_count": null,
   "metadata": {
    "_uuid": "e3c3edb17450b425470b2f87becafba3b58bce88"
   },
   "outputs": [],
   "source": [
    "figs = []\n",
    "\n",
    "for churn in churns:\n",
    "    figs.append(\n",
    "        go.Box(\n",
    "            y = df.loc[(df['Churn']==churn),'MonthlyCharges'],\n",
    "            name = churn\n",
    "        )\n",
    "    )\n",
    "layout = go.Layout(\n",
    "    title = \"MonthlyCharges\",\n",
    "    xaxis = {\"title\" : \"Churn?\"},\n",
    "    yaxis = {\"title\" : \"MonthlyCharges\"},\n",
    "    width=800,\n",
    "    height=500\n",
    ")\n",
    "\n",
    "fig = go.Figure(data=figs, layout=layout)\n",
    "py.offline.iplot(fig)"
   ]
  },
  {
   "cell_type": "markdown",
   "metadata": {
    "_uuid": "8be4e99448e9af78ae0de26401b57cc934427b3c"
   },
   "source": [
    "<h3>EDA: Target</h3>"
   ]
  },
  {
   "cell_type": "code",
   "execution_count": null,
   "metadata": {
    "_uuid": "4adc24837c701592fce5d9e763235376b9b8d218",
    "scrolled": false
   },
   "outputs": [],
   "source": [
    "_ = df.groupby('Churn').size().reset_index()\n",
    "# .sort_values(by='tenure', ascending=True)\n",
    "\n",
    "data = [go.Bar(\n",
    "    x = _['Churn'].tolist(),\n",
    "    y = _[0].tolist(),\n",
    "    marker=dict(\n",
    "        color=['rgba(255,190,134,1)', 'rgba(142,186,217,1)'])\n",
    ")]\n",
    "layout = go.Layout(\n",
    "    title = \"Churn distribution\",\n",
    "    xaxis = {\"title\" : \"Churn?\"},\n",
    "    width=800,\n",
    "    height=500\n",
    ")\n",
    "fig = go.Figure(data=data, layout=layout)\n",
    "py.offline.iplot(fig)"
   ]
  },
  {
   "cell_type": "markdown",
   "metadata": {
    "_uuid": "bdc113c2211cdaf6d2d09f58168e45844a8326bc"
   },
   "source": [
    "Insights from our simple EDA:<br>\n",
    "* We can see a difference between our target classes on tenure as you can see in the first boxplot, which is good because our model (Logistic Regression) may use this to separate the two classes.\n",
    "* There is also a slight difference between our target classes on monthly charges as shown in the second boxplot.\n",
    "* The barchart above shows a huge imbalance in our target classes, this may affect the prediction of our model. We may have to deal with this later."
   ]
  },
  {
   "cell_type": "markdown",
   "metadata": {
    "_uuid": "c3b1ee516ef28f3839c01d2727bde08784558365"
   },
   "source": [
    "<h3>Logistic Regression in action</h3>"
   ]
  },
  {
   "cell_type": "markdown",
   "metadata": {
    "_uuid": "2ff6c9fd8f4daa714204d973fcb9212e502d0d39"
   },
   "source": [
    "Before we start predicting, an important step to do is to convert our **Churn** feature, which is a string, into integer. *Yes* will be converted to 1 and *No* will be converted to 0. We will name this new columns a \"class\"."
   ]
  },
  {
   "cell_type": "code",
   "execution_count": null,
   "metadata": {
    "_uuid": "217cbb254d2328060d46c8a0839afd3e18ad707b"
   },
   "outputs": [],
   "source": [
    "df['class'] = df['Churn'].apply(lambda x : 1 if x == \"Yes\" else 0)\n",
    "# features will be saved as X and our target will be saved as y\n",
    "X = df[['tenure','MonthlyCharges']].copy()\n",
    "X2 = df[['tenure','MonthlyCharges']].copy()\n",
    "y = df['class'].copy()"
   ]
  },
  {
   "cell_type": "markdown",
   "metadata": {
    "_uuid": "a56150b3fb46c156f5d265f6bf11b945ceb96267"
   },
   "source": [
    "Let us try first loss minimization with gradient descent and calculate the accuracy of our model."
   ]
  },
  {
   "cell_type": "code",
   "execution_count": null,
   "metadata": {
    "_uuid": "671228c839e3e359f929784ff74fddf7fb2a64b4",
    "scrolled": true
   },
   "outputs": [],
   "source": [
    "start_time = time.time()\n",
    "\n",
    "num_iter = 100000\n",
    "\n",
    "intercept = np.ones((X.shape[0], 1)) \n",
    "X = np.concatenate((intercept, X), axis=1)\n",
    "theta = np.zeros(X.shape[1])\n",
    "\n",
    "for i in range(num_iter):\n",
    "    h = sigmoid(X, theta)\n",
    "    gradient = gradient_descent(X, h, y)\n",
    "    theta = update_weight_loss(theta, 0.1, gradient)\n",
    "    \n",
    "print(\"Training time (Log Reg using Gradient descent):\" + str(time.time() - start_time) + \" seconds\")\n",
    "print(\"Learning rate: {}\\nIteration: {}\".format(0.1, num_iter))"
   ]
  },
  {
   "cell_type": "code",
   "execution_count": null,
   "metadata": {
    "_uuid": "b26d6770373e6ecd294a1866a39add5b55b9d8ec"
   },
   "outputs": [],
   "source": [
    "result = sigmoid(X, theta)"
   ]
  },
  {
   "cell_type": "code",
   "execution_count": null,
   "metadata": {
    "_uuid": "f2975af9d174631042ed4bdfe3bceac7edfdda5c"
   },
   "outputs": [],
   "source": [
    "f = pd.DataFrame(np.around(result, decimals=6)).join(y)\n",
    "f['pred'] = f[0].apply(lambda x : 0 if x < 0.5 else 1)\n",
    "print(\"Accuracy (Loss minimization):\")\n",
    "f.loc[f['pred']==f['class']].shape[0] / f.shape[0] * 100"
   ]
  },
  {
   "cell_type": "markdown",
   "metadata": {
    "_uuid": "91a71a8dedf39338d9e99f88feb5a7b1d66eaaca"
   },
   "source": [
    "Now let us try maximum likelihood estimation and compute the accuracy"
   ]
  },
  {
   "cell_type": "code",
   "execution_count": null,
   "metadata": {
    "_uuid": "e0f626b6b43949ff9eaf068bbc5bd38b2053eb77"
   },
   "outputs": [],
   "source": [
    "start_time = time.time()\n",
    "num_iter = 100000\n",
    "\n",
    "intercept2 = np.ones((X2.shape[0], 1))\n",
    "X2 = np.concatenate((intercept2, X2), axis=1)\n",
    "theta2 = np.zeros(X2.shape[1])\n",
    "\n",
    "for i in range(num_iter):\n",
    "    h2 = sigmoid(X2, theta2)\n",
    "    gradient2 = gradient_ascent(X2, h2, y) #np.dot(X.T, (h - y)) / y.size\n",
    "    theta2 = update_weight_mle(theta2, 0.1, gradient2)\n",
    "    \n",
    "print(\"Training time (Log Reg using MLE):\" + str(time.time() - start_time) + \"seconds\")\n",
    "print(\"Learning rate: {}\\nIteration: {}\".format(0.1, num_iter))"
   ]
  },
  {
   "cell_type": "code",
   "execution_count": null,
   "metadata": {
    "_uuid": "31e9123a64c79c2cf705e3aaee5b1a64862c5690"
   },
   "outputs": [],
   "source": [
    "result2 = sigmoid(X2, theta2)"
   ]
  },
  {
   "cell_type": "code",
   "execution_count": null,
   "metadata": {
    "_uuid": "18da54b7cdcab18af2f3badd1ce057546836ce81"
   },
   "outputs": [],
   "source": [
    "print(\"Accuracy (Maximum Likelihood Estimation):\")\n",
    "f2 = pd.DataFrame(result2).join(y)\n",
    "f2.loc[f2[0]==f2['class']].shape[0] / f2.shape[0] * 100"
   ]
  },
  {
   "cell_type": "markdown",
   "metadata": {
    "_uuid": "e49a72ab216bc7cce378731b7cffdd3bccd5aa83"
   },
   "source": [
    "Next, let us try using sklearn's LogisticRegression module"
   ]
  },
  {
   "cell_type": "code",
   "execution_count": null,
   "metadata": {
    "_uuid": "baa9151be6db67ebb0f5eba1f8e57deb385c5fd4"
   },
   "outputs": [],
   "source": [
    "from sklearn.linear_model import LogisticRegression\n",
    "\n",
    "clf = LogisticRegression(fit_intercept=True, max_iter=100000)\n",
    "clf.fit(df[['tenure','MonthlyCharges']], y)\n",
    "print(\"Training time (sklearn's LogisticRegression module):\" + str(time.time() - start_time) + \" seconds\")\n",
    "print(\"Learning rate: {}\\nIteration: {}\".format(0.1, num_iter))"
   ]
  },
  {
   "cell_type": "code",
   "execution_count": null,
   "metadata": {
    "_uuid": "7733588210ee7cf06bc152c4b84d5c077a0b8ce6"
   },
   "outputs": [],
   "source": [
    "result3 = clf.predict(df[['tenure','MonthlyCharges']])"
   ]
  },
  {
   "cell_type": "code",
   "execution_count": null,
   "metadata": {
    "_uuid": "cd7c91a99c961ae2d26aeff19fcc2ec5e7b2e988"
   },
   "outputs": [],
   "source": [
    "print(\"Accuracy (sklearn's Logistic Regression):\")\n",
    "f3 = pd.DataFrame(result3).join(y)\n",
    "f3.loc[f3[0]==f3['class']].shape[0] / f3.shape[0] * 100"
   ]
  },
  {
   "cell_type": "markdown",
   "metadata": {
    "_uuid": "d4b7789bd891c45d36af9319bf241d74a67807c4"
   },
   "source": [
    "Insights from the training, prediction and simple evaluation that we've done: <br>\n",
    "We've accomplished our second objective which is to implement a Logistic Regression without the help of built-in libraries (except numpy of course). <br>\n",
    "We've predicted and computed the accuracy of three different models\n",
    "1. Log Regression from scratch using loss minimization. \n",
    "1. Log Regression from scratch using maximum likelihood estimation.\n",
    "1. Log Regression class of sklearn.\n",
    "    "
   ]
  },
  {
   "cell_type": "markdown",
   "metadata": {
    "_uuid": "ed3c7ccc808e235e9bd12578d1077d13d44c24c3"
   },
   "source": [
    "<h2>Summary and Conclusion</h2>"
   ]
  },
  {
   "cell_type": "markdown",
   "metadata": {
    "_uuid": "e70848dfe463280ba108bbff660343f3a59c4409"
   },
   "source": [
    "In this kernel, we've created a logistic regression from scratch. We've learned the computations happening at the back-end of a Logistic Regression. We've transormed these equations and mathematical functions into python codes. We've trained our logistic regression function in two ways: through loss minimizing using gradient descent and maximizing the likelihood using gradient ascent. The Telco Customer Churn dataset was used for training and also evaluation. Below is the result of the evaluation (not dynamic)\n",
    "\n",
    "<table>\n",
    "    <tr>\n",
    "        <td>**LR model**</td>\n",
    "        <td>**training time (7043 records)**</td>\n",
    "        <td>**training accuracy**</td>\n",
    "    </tr>\n",
    "     <tr>\n",
    "        <td>Loss function + Gradient descent</td>\n",
    "        <td>56 seconds</td>\n",
    "        <td>68.5%</td>\n",
    "    </tr>\n",
    "     <tr>\n",
    "        <td>MLE + Gradient ascent</td>\n",
    "        <td>49 seconds</td>\n",
    "        <td>73.07%</td>\n",
    "    </tr>\n",
    "    <tr>\n",
    "        <td>sklearn</td>\n",
    "        <td>49 seconds</td>\n",
    "        <td>78%</td>\n",
    "    </tr>\n",
    "</table><br>\n",
    "While the table shows that MLE + Gradient ascent is better than the other method, we have to consider the number of training iterations we've set as well as other hyperparameters. I randomly chose 100,000 as the number of iteration for this exercise, increasing or decreasing it might change the result, that's yours to find out. Also we've only chosen **tenure** and **monthlyCharges** as our features to simplify things, there might be important features that we need to include in the future to make the algorithm perform better, again that's yours to find out. Despite all of these, our function performed quite well I would say, (LOL) it's not that far out from the accuracy of sklearn, however there are other metrics to consider in comparing these models, that's also yours to find out. <br>\n",
    "To wrap things up let us review our objectives and wether we've accomplished them. The first objective was to understand the theory behind Logistic Regression. We've discussed that in the section **Logistic Regression behind the mask**, and I do hope that we all understood the things I stated there. The second objective was to implement the Logistic Regression without using built-in Logistic Regression libraries, yes we've done that in the section **Logistic Regression in action**, it was trained, and evaluated. In the same section, we have also predicted the churn of the customers in the Telco Customer Churn dataset. <br><br>\n",
    "This logistic regression implementation would probably be never used in production and it is unlikely that it will defeat sklearn's own LogisticRegression module, however the goal of this kernel was to understand intrecately the structure of different algorithms, in this case, Logistic Regression. Stay tuned, for more of this kind of kernels. If you liked this kernel please leave an upvote, thank you."
   ]
  },
  {
   "cell_type": "markdown",
   "metadata": {
    "_uuid": "5d66f79bc5bcce02909b48b56bdf4cc3c16fc76c"
   },
   "source": [
    "<h2>References:</h2><br>\n",
    "This kernel was heavily influenced by the following:\n",
    "* https://medium.com/@martinpella/logistic-regression-from-scratch-in-python-124c5636b8ac\n",
    "* https://beckernick.github.io/logistic-regression-from-scratch/"
   ]
  }
 ],
 "metadata": {
  "kernelspec": {
   "display_name": "Python 3",
   "language": "python",
   "name": "python3"
  },
  "language_info": {
   "codemirror_mode": {
    "name": "ipython",
    "version": 3
   },
   "file_extension": ".py",
   "mimetype": "text/x-python",
   "name": "python",
   "nbconvert_exporter": "python",
   "pygments_lexer": "ipython3",
   "version": "3.7.4"
  }
 },
 "nbformat": 4,
 "nbformat_minor": 1
}
