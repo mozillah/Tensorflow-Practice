{
 "cells": [
  {
   "cell_type": "code",
   "execution_count": 30,
   "metadata": {},
   "outputs": [],
   "source": [
    "import datetime\n",
    "import numpy as np\n",
    "import pandas as pd\n",
    "import matplotlib.pyplot as plt\n",
    "import tensorflow as tf\n",
    "from tensorflow.keras import layers,models\n",
    "from keras.datasets import mnist\n",
    "from keras.utils import to_categorical\n",
    "np.set_printoptions(linewidth=200) # No. of characters per line displayed.\n",
    "%matplotlib inline\n",
    "import pathlib\n",
    "import cv2\n",
    "import numpy as np\n",
    "import tqdm"
   ]
  },
  {
   "cell_type": "code",
   "execution_count": 31,
   "metadata": {},
   "outputs": [],
   "source": [
    "\n",
    "def tight_bbox(digit, orig_bbox):\n",
    "    xmin, ymin, xmax, ymax = orig_bbox\n",
    "    # xmin\n",
    "    shift = 0\n",
    "    for i in range(digit.shape[1]):\n",
    "        if digit[:, i].sum() != 0:\n",
    "            break\n",
    "        shift += 1\n",
    "    xmin += shift\n",
    "    # xmax\n",
    "    shift = 0\n",
    "    for i in range(-1, -digit.shape[1], -1):\n",
    "        if digit[:, i].sum() != 0:\n",
    "            break\n",
    "        shift += 1\n",
    "    xmax -= shift\n",
    "    ymin\n",
    "    shift = 0\n",
    "    for i in range(digit.shape[0]):\n",
    "        if digit[i, :].sum() != 0:\n",
    "            break\n",
    "        shift += 1\n",
    "    ymin += shift\n",
    "    shift = 0\n",
    "    for i in range(-1, -digit.shape[0], -1):\n",
    "        if digit[i, :].sum() != 0:\n",
    "            break\n",
    "        shift += 1\n",
    "    ymax -= shift\n",
    "    return [xmin, ymin, xmax, ymax]\n"
   ]
  },
  {
   "cell_type": "code",
   "execution_count": 4,
   "metadata": {},
   "outputs": [],
   "source": [
    "(train_images, train_labels), (test_images, test_labels) = mnist.load_data()"
   ]
  },
  {
   "cell_type": "code",
   "execution_count": 5,
   "metadata": {},
   "outputs": [
    {
     "name": "stdout",
     "output_type": "stream",
     "text": [
      "# of training images: 60000\n",
      "# of test images: 10000\n"
     ]
    }
   ],
   "source": [
    "print('# of training images:', train_images.shape[0])\n",
    "print('# of test images:', test_images.shape[0])"
   ]
  },
  {
   "cell_type": "code",
   "execution_count": 6,
   "metadata": {},
   "outputs": [],
   "source": [
    "def display_image(position):\n",
    "    image = train_images[position]\n",
    "    plt.title('Example %d. Label: %d' % (position, train_labels[position]))\n",
    "    plt.imshow(image, cmap=plt.cm.gray_r)"
   ]
  },
  {
   "cell_type": "code",
   "execution_count": 7,
   "metadata": {},
   "outputs": [
    {
     "data": {
      "image/png": "[encoded data removed]",
      "text/plain": [
       "<Figure size 432x288 with 1 Axes>"
      ]
     },
     "metadata": {
      "needs_background": "light"
     },
     "output_type": "display_data"
    }
   ],
   "source": [
    "display_image(0)"
   ]
  },
  {
   "cell_type": "code",
   "execution_count": 9,
   "metadata": {},
   "outputs": [
    {
     "ename": "NameError",
     "evalue": "name 'dirpath' is not defined",
     "output_type": "error",
     "traceback": [
      "\u001b[0;31m---------------------------------------------------------------------------\u001b[0m",
      "\u001b[0;31mNameError\u001b[0m                                 Traceback (most recent call last)",
      "\u001b[0;32m<ipython-input-9-4611661e252b>\u001b[0m in \u001b[0;36m<module>\u001b[0;34m\u001b[0m\n\u001b[0;32m----> 1\u001b[0;31m \u001b[0mimage_dir\u001b[0m \u001b[0;34m=\u001b[0m \u001b[0mdirpath\u001b[0m\u001b[0;34m.\u001b[0m\u001b[0mjoinpath\u001b[0m\u001b[0;34m(\u001b[0m\u001b[0;34m\"images\"\u001b[0m\u001b[0;34m)\u001b[0m\u001b[0;34m\u001b[0m\u001b[0;34m\u001b[0m\u001b[0m\n\u001b[0m\u001b[1;32m      2\u001b[0m \u001b[0mlabel_dir\u001b[0m \u001b[0;34m=\u001b[0m \u001b[0mdirpath\u001b[0m\u001b[0;34m.\u001b[0m\u001b[0mjoinpath\u001b[0m\u001b[0;34m(\u001b[0m\u001b[0;34m\"labels\"\u001b[0m\u001b[0;34m)\u001b[0m\u001b[0;34m\u001b[0m\u001b[0;34m\u001b[0m\u001b[0m\n",
      "\u001b[0;31mNameError\u001b[0m: name 'dirpath' is not defined"
     ]
    }
   ],
   "source": [
    "image_dir = dirpath.joinpath(\"images\")\n",
    "label_dir = dirpath.joinpath(\"labels\")"
   ]
  },
  {
   "cell_type": "code",
   "execution_count": 10,
   "metadata": {},
   "outputs": [],
   "source": [
    "num_images=train_images.shape[0]"
   ]
  },
  {
   "cell_type": "code",
   "execution_count": 25,
   "metadata": {},
   "outputs": [
    {
     "data": {
      "text/plain": [
       "13"
      ]
     },
     "execution_count": 25,
     "metadata": {},
     "output_type": "execute_result"
    }
   ],
   "source": [
    "num_images"
   ]
  },
  {
   "cell_type": "code",
   "execution_count": 26,
   "metadata": {},
   "outputs": [],
   "source": [
    "def compute_iou_all(bbox, all_bboxes):\n",
    "    ious = [0]\n",
    "    for other_bbox in all_bboxes:\n",
    "        ious.append(\n",
    "            calculate_iou(bbox, other_bbox)\n",
    "        )\n",
    "    return ious"
   ]
  },
  {
   "cell_type": "code",
   "execution_count": 38,
   "metadata": {},
   "outputs": [],
   "source": [
    "imsize=300\n",
    "max_image_value = 255\n",
    "max_digits_per_image=20\n",
    "min_digit_size=15\n",
    "max_digit_size=100"
   ]
  },
  {
   "cell_type": "code",
   "execution_count": 39,
   "metadata": {},
   "outputs": [],
   "source": [
    "import os"
   ]
  },
  {
   "cell_type": "code",
   "execution_count": 42,
   "metadata": {},
   "outputs": [],
   "source": [
    "path=\"./\"\n",
    "image_dir = os.path.join(path,\"images\")\n",
    "label_dir = os.path.join(path,\"labels\")"
   ]
  },
  {
   "cell_type": "code",
   "execution_count": 44,
   "metadata": {},
   "outputs": [
    {
     "data": {
      "text/plain": [
       "'./images'"
      ]
     },
     "execution_count": 44,
     "metadata": {},
     "output_type": "execute_result"
    }
   ],
   "source": [
    "image_dir"
   ]
  },
  {
   "cell_type": "code",
   "execution_count": 46,
   "metadata": {},
   "outputs": [
    {
     "name": "stderr",
     "output_type": "stream",
     "text": [
      "Generating dataset, saving to: ./: 0it [00:00, ?it/s]\n"
     ]
    }
   ],
   "source": [
    "for image_id in tqdm.trange(num_images,desc=f\"Generating dataset, saving to: {path}\"):\n",
    "    print(image_id)\n",
    "    im = np.zeros((imsize, imsize), dtype=np.float32)\n",
    "    labels = []\n",
    "    bboxes = []\n",
    "    num_images = np.random.randint(0, max_digits_per_image)\n",
    "    print(num_images)\n",
    "    for _ in range(num_images+1):\n",
    "        while True:\n",
    "            width = np.random.randint(min_digit_size, max_digit_size)\n",
    "            x0 = np.random.randint(0, imsize-width)\n",
    "            y0 = np.random.randint(0, imsize-width)\n",
    "            ious = compute_iou_all([x0, y0, x0+width, y0+width], bboxes)\n",
    "            if max(ious) < 0.25:\n",
    "                break\n",
    "        digit_idx = np.random.randint(0, len(train_images))\n",
    "        digit = train_images[digit_idx].astype(np.float32)\n",
    "        digit = cv2.resize(digit, (width, width))\n",
    "        label = train_labels[digit_idx]\n",
    "        labels.append(label)\n",
    "        assert im[y0:y0+width, x0:x0+width].shape == digit.shape, \\\n",
    "            f\"imshape: {im[y0:y0+width, x0:x0+width].shape}, digit shape: {digit.shape}\"\n",
    "        bbox = tight_bbox(digit, [x0, y0, x0+width, y0+width])\n",
    "        bboxes.append(bbox)\n",
    "\n",
    "        im[y0:y0+width, x0:x0+width] += digit\n",
    "        im[im > max_image_value] = max_image_value\n",
    "    \n",
    "    image_target_path = image_dir.joinpath(f\"{image_id}.png\")\n",
    "    label_target_path = label_dir.joinpath(f\"{image_id}.txt\")\n",
    "    im = im.astype(np.uint8)\n",
    "    cv2.imwrite(str(image_target_path), im)\n",
    "    with open(label_target_path, \"w\") as fp:\n",
    "        fp.write(\"label,xmin,ymin,xmax,ymax\\n\")\n",
    "        for l, bbox in zip(labels, bboxes):\n",
    "            bbox = [str(_) for _ in bbox]\n",
    "            to_write = f\"{l},\" + \",\".join(bbox) + \"\\n\"\n",
    "            fp.write(to_write)"
   ]
  }
 ],
 "metadata": {
  "kernelspec": {
   "display_name": "Python 3",
   "language": "python",
   "name": "python3"
  },
  "language_info": {
   "codemirror_mode": {
    "name": "ipython",
    "version": 3
   },
   "file_extension": ".py",
   "mimetype": "text/x-python",
   "name": "python",
   "nbconvert_exporter": "python",
   "pygments_lexer": "ipython3",
   "version": "3.8.5"
  }
 },
 "nbformat": 4,
 "nbformat_minor": 4
}
