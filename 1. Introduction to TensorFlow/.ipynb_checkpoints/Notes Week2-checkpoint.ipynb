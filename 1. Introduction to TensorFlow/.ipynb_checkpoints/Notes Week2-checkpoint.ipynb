{
 "cells": [
  {
   "cell_type": "markdown",
   "metadata": {},
   "source": [
    "Machine Learning depends on having good data to train a system with.\n",
    "\n",
    " The data comes from a dataset called Fashion MNIST, and you can learn more about it \n",
    " \n",
    " Explore it in GitHub <a href='https://github.com/zalandoresearch/fashion-mnist'>here</a>. "
   ]
  },
  {
   "cell_type": "markdown",
   "metadata": {},
   "source": [
    "In Mnist dataset image is represented as a **28x28** array of greyscales, and how its label is a number. \n",
    "    \n",
    "Using a number is a first step in **avoiding bias** -- instead of labelling it with words in a specific language and excluding people who don’t speak that language! \n",
    "    \n",
    "\n",
    "You can learn more about bias and techniques to avoid it <a href='https://ai.google/responsibilities/responsible-ai-practices/'>here</a>."
   ]
  }
 ],
 "metadata": {
  "kernelspec": {
   "display_name": "Python 3",
   "language": "python",
   "name": "python3"
  },
  "language_info": {
   "codemirror_mode": {
    "name": "ipython",
    "version": 3
   },
   "file_extension": ".py",
   "mimetype": "text/x-python",
   "name": "python",
   "nbconvert_exporter": "python",
   "pygments_lexer": "ipython3",
   "version": "3.8.5"
  }
 },
 "nbformat": 4,
 "nbformat_minor": 4
}
