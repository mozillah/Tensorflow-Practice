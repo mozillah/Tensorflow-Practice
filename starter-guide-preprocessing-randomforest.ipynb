{
 "cells": [
  {
   "cell_type": "markdown",
   "metadata": {
    "_uuid": "4a8db4e393a850b978c8f6528258ac67dded38d6"
   },
   "source": [
    "# Teleco Churn Prediction"
   ]
  },
  {
   "cell_type": "markdown",
   "metadata": {
    "_uuid": "710f65b826a6963f3cb69265d38c5fbda162e32b"
   },
   "source": [
    "![imglink](http://www.oxper.in/wp-content/uploads/2017/06/churn-1-900x444.png)\n"
   ]
  },
  {
   "cell_type": "markdown",
   "metadata": {
    "_uuid": "93219c80ccf9664d8103fcaad89c3d2345bf207e"
   },
   "source": [
    "# <font color='red'> Introduction </font>\n",
    "\n",
    "     Welcome to basic binary classification task\n",
    "     this dataset want us to create model which can predict customer that will churn in future\n",
    "\n",
    "\n",
    "In this kernel,\n",
    "\n",
    " - Simple Exploratory Data Analysis\n",
    " - Data wrangling\n",
    " - Creating predictive models\n",
    " - Fine tuning by GridSearch"
   ]
  },
  {
   "cell_type": "markdown",
   "metadata": {
    "_uuid": "49251eaa4b5c9a6682dd3777ed55f24118651391"
   },
   "source": [
    "## Import package"
   ]
  },
  {
   "cell_type": "code",
   "execution_count": 7,
   "metadata": {
    "_uuid": "fd9461a74ebc6e39b394394dbd6059a1cd77f52a"
   },
   "outputs": [],
   "source": [
    "import numpy as np # linear algebra\n",
    "import pandas as pd # data processing, CSV file I/O (e.g. pd.read_csv)\n",
    "import matplotlib.pyplot as plt # this is used for the plot the graph \n",
    "import seaborn as sns # used for plot interactive graph.\n",
    "import warnings\n",
    "warnings.filterwarnings(\"ignore\")\n",
    "\n",
    "from pylab import rcParams\n",
    "\n",
    "\n",
    "%matplotlib inline"
   ]
  },
  {
   "cell_type": "code",
   "execution_count": 8,
   "metadata": {
    "_uuid": "9279cda2c3a00b6a23ee6207291ec33c57a3d1a1"
   },
   "outputs": [],
   "source": [
    "data = pd.read_csv('Churn.csv')"
   ]
  },
  {
   "cell_type": "markdown",
   "metadata": {
    "_uuid": "259d95c6b7dcc66a4e601cf7bfdb010899b78d04"
   },
   "source": [
    "## Data Exploration"
   ]
  },
  {
   "cell_type": "code",
   "execution_count": 9,
   "metadata": {
    "_uuid": "5106d47499d710a630e7ba31a0e9be43d59bb611"
   },
   "outputs": [
    {
     "data": {
      "text/plain": [
       "Index(['customerID', 'gender', 'SeniorCitizen', 'Partner', 'Dependents',\n",
       "       'tenure', 'PhoneService', 'MultipleLines', 'InternetService',\n",
       "       'OnlineSecurity', 'OnlineBackup', 'DeviceProtection', 'TechSupport',\n",
       "       'StreamingTV', 'StreamingMovies', 'Contract', 'PaperlessBilling',\n",
       "       'PaymentMethod', 'MonthlyCharges', 'TotalCharges', 'Churn'],\n",
       "      dtype='object')"
      ]
     },
     "execution_count": 9,
     "metadata": {},
     "output_type": "execute_result"
    }
   ],
   "source": [
    "data.columns"
   ]
  },
  {
   "cell_type": "code",
   "execution_count": 10,
   "metadata": {
    "_uuid": "94fef7ae1be348c0d0f9ddcdf722f5390b3f1808"
   },
   "outputs": [
    {
     "data": {
      "text/plain": [
       "(7043, 21)"
      ]
     },
     "execution_count": 10,
     "metadata": {},
     "output_type": "execute_result"
    }
   ],
   "source": [
    "data.shape"
   ]
  },
  {
   "cell_type": "markdown",
   "metadata": {
    "_uuid": "2eb272cdd74ce3a08cb3bd7640a7ecde5e2b01cd"
   },
   "source": [
    "    7043 data objects with 21 attributes"
   ]
  },
  {
   "cell_type": "code",
   "execution_count": 11,
   "metadata": {
    "_uuid": "b188f5a000cc12de434dc2e503b1079f48121937"
   },
   "outputs": [
    {
     "data": {
      "text/html": [
       "<div>\n",
       "<style scoped>\n",
       "    .dataframe tbody tr th:only-of-type {\n",
       "        vertical-align: middle;\n",
       "    }\n",
       "\n",
       "    .dataframe tbody tr th {\n",
       "        vertical-align: top;\n",
       "    }\n",
       "\n",
       "    .dataframe thead th {\n",
       "        text-align: right;\n",
       "    }\n",
       "</style>\n",
       "<table border=\"1\" class=\"dataframe\">\n",
       "  <thead>\n",
       "    <tr style=\"text-align: right;\">\n",
       "      <th></th>\n",
       "      <th>customerID</th>\n",
       "      <th>gender</th>\n",
       "      <th>SeniorCitizen</th>\n",
       "      <th>Partner</th>\n",
       "      <th>Dependents</th>\n",
       "      <th>tenure</th>\n",
       "      <th>PhoneService</th>\n",
       "      <th>MultipleLines</th>\n",
       "      <th>InternetService</th>\n",
       "      <th>OnlineSecurity</th>\n",
       "      <th>...</th>\n",
       "      <th>DeviceProtection</th>\n",
       "      <th>TechSupport</th>\n",
       "      <th>StreamingTV</th>\n",
       "      <th>StreamingMovies</th>\n",
       "      <th>Contract</th>\n",
       "      <th>PaperlessBilling</th>\n",
       "      <th>PaymentMethod</th>\n",
       "      <th>MonthlyCharges</th>\n",
       "      <th>TotalCharges</th>\n",
       "      <th>Churn</th>\n",
       "    </tr>\n",
       "  </thead>\n",
       "  <tbody>\n",
       "    <tr>\n",
       "      <th>0</th>\n",
       "      <td>7590-VHVEG</td>\n",
       "      <td>Female</td>\n",
       "      <td>0</td>\n",
       "      <td>Yes</td>\n",
       "      <td>No</td>\n",
       "      <td>1</td>\n",
       "      <td>No</td>\n",
       "      <td>No phone service</td>\n",
       "      <td>DSL</td>\n",
       "      <td>No</td>\n",
       "      <td>...</td>\n",
       "      <td>No</td>\n",
       "      <td>No</td>\n",
       "      <td>No</td>\n",
       "      <td>No</td>\n",
       "      <td>Month-to-month</td>\n",
       "      <td>Yes</td>\n",
       "      <td>Electronic check</td>\n",
       "      <td>29.85</td>\n",
       "      <td>29.85</td>\n",
       "      <td>No</td>\n",
       "    </tr>\n",
       "    <tr>\n",
       "      <th>1</th>\n",
       "      <td>5575-GNVDE</td>\n",
       "      <td>Male</td>\n",
       "      <td>0</td>\n",
       "      <td>No</td>\n",
       "      <td>No</td>\n",
       "      <td>34</td>\n",
       "      <td>Yes</td>\n",
       "      <td>No</td>\n",
       "      <td>DSL</td>\n",
       "      <td>Yes</td>\n",
       "      <td>...</td>\n",
       "      <td>Yes</td>\n",
       "      <td>No</td>\n",
       "      <td>No</td>\n",
       "      <td>No</td>\n",
       "      <td>One year</td>\n",
       "      <td>No</td>\n",
       "      <td>Mailed check</td>\n",
       "      <td>56.95</td>\n",
       "      <td>1889.5</td>\n",
       "      <td>No</td>\n",
       "    </tr>\n",
       "    <tr>\n",
       "      <th>2</th>\n",
       "      <td>3668-QPYBK</td>\n",
       "      <td>Male</td>\n",
       "      <td>0</td>\n",
       "      <td>No</td>\n",
       "      <td>No</td>\n",
       "      <td>2</td>\n",
       "      <td>Yes</td>\n",
       "      <td>No</td>\n",
       "      <td>DSL</td>\n",
       "      <td>Yes</td>\n",
       "      <td>...</td>\n",
       "      <td>No</td>\n",
       "      <td>No</td>\n",
       "      <td>No</td>\n",
       "      <td>No</td>\n",
       "      <td>Month-to-month</td>\n",
       "      <td>Yes</td>\n",
       "      <td>Mailed check</td>\n",
       "      <td>53.85</td>\n",
       "      <td>108.15</td>\n",
       "      <td>Yes</td>\n",
       "    </tr>\n",
       "    <tr>\n",
       "      <th>3</th>\n",
       "      <td>7795-CFOCW</td>\n",
       "      <td>Male</td>\n",
       "      <td>0</td>\n",
       "      <td>No</td>\n",
       "      <td>No</td>\n",
       "      <td>45</td>\n",
       "      <td>No</td>\n",
       "      <td>No phone service</td>\n",
       "      <td>DSL</td>\n",
       "      <td>Yes</td>\n",
       "      <td>...</td>\n",
       "      <td>Yes</td>\n",
       "      <td>Yes</td>\n",
       "      <td>No</td>\n",
       "      <td>No</td>\n",
       "      <td>One year</td>\n",
       "      <td>No</td>\n",
       "      <td>Bank transfer (automatic)</td>\n",
       "      <td>42.30</td>\n",
       "      <td>1840.75</td>\n",
       "      <td>No</td>\n",
       "    </tr>\n",
       "    <tr>\n",
       "      <th>4</th>\n",
       "      <td>9237-HQITU</td>\n",
       "      <td>Female</td>\n",
       "      <td>0</td>\n",
       "      <td>No</td>\n",
       "      <td>No</td>\n",
       "      <td>2</td>\n",
       "      <td>Yes</td>\n",
       "      <td>No</td>\n",
       "      <td>Fiber optic</td>\n",
       "      <td>No</td>\n",
       "      <td>...</td>\n",
       "      <td>No</td>\n",
       "      <td>No</td>\n",
       "      <td>No</td>\n",
       "      <td>No</td>\n",
       "      <td>Month-to-month</td>\n",
       "      <td>Yes</td>\n",
       "      <td>Electronic check</td>\n",
       "      <td>70.70</td>\n",
       "      <td>151.65</td>\n",
       "      <td>Yes</td>\n",
       "    </tr>\n",
       "  </tbody>\n",
       "</table>\n",
       "<p>5 rows × 21 columns</p>\n",
       "</div>"
      ],
      "text/plain": [
       "   customerID  gender  SeniorCitizen Partner Dependents  tenure PhoneService  \\\n",
       "0  7590-VHVEG  Female              0     Yes         No       1           No   \n",
       "1  5575-GNVDE    Male              0      No         No      34          Yes   \n",
       "2  3668-QPYBK    Male              0      No         No       2          Yes   \n",
       "3  7795-CFOCW    Male              0      No         No      45           No   \n",
       "4  9237-HQITU  Female              0      No         No       2          Yes   \n",
       "\n",
       "      MultipleLines InternetService OnlineSecurity  ... DeviceProtection  \\\n",
       "0  No phone service             DSL             No  ...               No   \n",
       "1                No             DSL            Yes  ...              Yes   \n",
       "2                No             DSL            Yes  ...               No   \n",
       "3  No phone service             DSL            Yes  ...              Yes   \n",
       "4                No     Fiber optic             No  ...               No   \n",
       "\n",
       "  TechSupport StreamingTV StreamingMovies        Contract PaperlessBilling  \\\n",
       "0          No          No              No  Month-to-month              Yes   \n",
       "1          No          No              No        One year               No   \n",
       "2          No          No              No  Month-to-month              Yes   \n",
       "3         Yes          No              No        One year               No   \n",
       "4          No          No              No  Month-to-month              Yes   \n",
       "\n",
       "               PaymentMethod MonthlyCharges  TotalCharges Churn  \n",
       "0           Electronic check          29.85         29.85    No  \n",
       "1               Mailed check          56.95        1889.5    No  \n",
       "2               Mailed check          53.85        108.15   Yes  \n",
       "3  Bank transfer (automatic)          42.30       1840.75    No  \n",
       "4           Electronic check          70.70        151.65   Yes  \n",
       "\n",
       "[5 rows x 21 columns]"
      ]
     },
     "execution_count": 11,
     "metadata": {},
     "output_type": "execute_result"
    }
   ],
   "source": [
    "data.head(5)"
   ]
  },
  {
   "cell_type": "markdown",
   "metadata": {
    "_uuid": "0fa1bd822aecd0e46cdd7dd548555e7aad79e26e"
   },
   "source": [
    "**<font color='forestgreen'> Note</font>**\n",
    "\n",
    "    First of all, drop customerID because it should not effect to churn probability"
   ]
  },
  {
   "cell_type": "code",
   "execution_count": 12,
   "metadata": {
    "_uuid": "2bb21615b50fedae76a5ab1312ded49381c4c7d7"
   },
   "outputs": [],
   "source": [
    "data.drop(['customerID'], axis=1, inplace=True)"
   ]
  },
  {
   "cell_type": "markdown",
   "metadata": {
    "_uuid": "ec1a26f36e5efde3d444cc9bc6acb172b46f7d51"
   },
   "source": [
    "## Target Feature"
   ]
  },
  {
   "cell_type": "code",
   "execution_count": 13,
   "metadata": {
    "_uuid": "d2634f26dfd02ecfa22f44480216a0e73df8d153"
   },
   "outputs": [
    {
     "data": {
      "text/plain": [
       "Yes    1869\n",
       "No     5174\n",
       "Name: Churn, dtype: int64"
      ]
     },
     "execution_count": 13,
     "metadata": {},
     "output_type": "execute_result"
    }
   ],
   "source": [
    "data['Churn'].value_counts(sort = False)"
   ]
  },
  {
   "cell_type": "code",
   "execution_count": 14,
   "metadata": {
    "_uuid": "13b5e5b54efd70d874ce9703be051a0ed36295a2"
   },
   "outputs": [
    {
     "data": {
      "text/plain": [
       "Yes    1869\n",
       "No     5174\n",
       "Name: Churn, dtype: int64"
      ]
     },
     "execution_count": 14,
     "metadata": {},
     "output_type": "execute_result"
    }
   ],
   "source": [
    "data['Churn'].value_counts(sort = False)"
   ]
  },
  {
   "cell_type": "code",
   "execution_count": 15,
   "metadata": {
    "_uuid": "9370199de0113b6ec0f6e8ab5533cebf69d2f6b8"
   },
   "outputs": [
    {
     "data": {
      "image/png": "[encoded data removed]",
      "text/plain": [
       "<Figure size 576x576 with 1 Axes>"
      ]
     },
     "metadata": {},
     "output_type": "display_data"
    }
   ],
   "source": [
    "# Data to plot\n",
    "labels =data['Churn'].value_counts(sort = True).index\n",
    "sizes = data['Churn'].value_counts(sort = True)\n",
    "\n",
    "\n",
    "colors = [\"whitesmoke\",\"red\"]\n",
    "explode = (0.1,0)  # explode 1st slice\n",
    " \n",
    "rcParams['figure.figsize'] = 8,8\n",
    "# Plot\n",
    "plt.pie(sizes, explode=explode, labels=labels, colors=colors,\n",
    "        autopct='%1.1f%%', shadow=True, startangle=270,)\n",
    "\n",
    "plt.title('Percent of churn in customer')\n",
    "plt.show()"
   ]
  },
  {
   "cell_type": "markdown",
   "metadata": {
    "_uuid": "1ab56b9b47f24df6f9a3a6ad594fa8644f0085da"
   },
   "source": [
    "**<font color='tomato'> Finding</font>**\n",
    "    \n",
    "    In training set, contain Churn customer only 26.5%"
   ]
  },
  {
   "cell_type": "code",
   "execution_count": 16,
   "metadata": {
    "_uuid": "f13f416e183dd848d05c249ce73fcd3520317f49"
   },
   "outputs": [],
   "source": [
    "data['Churn'] = data['Churn'].map(lambda s :1  if s =='Yes' else 0)"
   ]
  },
  {
   "cell_type": "markdown",
   "metadata": {
    "_uuid": "6680e1fb9898e18df05722964b37d080a36e2b9d"
   },
   "source": [
    "## Data Wrangling"
   ]
  },
  {
   "cell_type": "code",
   "execution_count": 17,
   "metadata": {
    "_uuid": "90925fe1d0f076af048da5c0e61cbe53431378a8"
   },
   "outputs": [
    {
     "name": "stdout",
     "output_type": "stream",
     "text": [
      "<class 'pandas.core.frame.DataFrame'>\n",
      "RangeIndex: 7043 entries, 0 to 7042\n",
      "Data columns (total 20 columns):\n",
      " #   Column            Non-Null Count  Dtype  \n",
      "---  ------            --------------  -----  \n",
      " 0   gender            7043 non-null   object \n",
      " 1   SeniorCitizen     7043 non-null   int64  \n",
      " 2   Partner           7043 non-null   object \n",
      " 3   Dependents        7043 non-null   object \n",
      " 4   tenure            7043 non-null   int64  \n",
      " 5   PhoneService      7043 non-null   object \n",
      " 6   MultipleLines     7043 non-null   object \n",
      " 7   InternetService   7043 non-null   object \n",
      " 8   OnlineSecurity    7043 non-null   object \n",
      " 9   OnlineBackup      7043 non-null   object \n",
      " 10  DeviceProtection  7043 non-null   object \n",
      " 11  TechSupport       7043 non-null   object \n",
      " 12  StreamingTV       7043 non-null   object \n",
      " 13  StreamingMovies   7043 non-null   object \n",
      " 14  Contract          7043 non-null   object \n",
      " 15  PaperlessBilling  7043 non-null   object \n",
      " 16  PaymentMethod     7043 non-null   object \n",
      " 17  MonthlyCharges    7043 non-null   float64\n",
      " 18  TotalCharges      7043 non-null   object \n",
      " 19  Churn             7043 non-null   int64  \n",
      "dtypes: float64(1), int64(3), object(16)\n",
      "memory usage: 1.1+ MB\n"
     ]
    }
   ],
   "source": [
    "data.info()"
   ]
  },
  {
   "cell_type": "code",
   "execution_count": 18,
   "metadata": {
    "_uuid": "5ea31a8f4f1ad1a2a39b8ade4b0ffcaf22c20971"
   },
   "outputs": [
    {
     "data": {
      "text/html": [
       "<div>\n",
       "<style scoped>\n",
       "    .dataframe tbody tr th:only-of-type {\n",
       "        vertical-align: middle;\n",
       "    }\n",
       "\n",
       "    .dataframe tbody tr th {\n",
       "        vertical-align: top;\n",
       "    }\n",
       "\n",
       "    .dataframe thead th {\n",
       "        text-align: right;\n",
       "    }\n",
       "</style>\n",
       "<table border=\"1\" class=\"dataframe\">\n",
       "  <thead>\n",
       "    <tr style=\"text-align: right;\">\n",
       "      <th></th>\n",
       "      <th>Total</th>\n",
       "      <th>Percent</th>\n",
       "    </tr>\n",
       "  </thead>\n",
       "  <tbody>\n",
       "    <tr>\n",
       "      <th>Churn</th>\n",
       "      <td>0</td>\n",
       "      <td>0.0</td>\n",
       "    </tr>\n",
       "    <tr>\n",
       "      <th>TotalCharges</th>\n",
       "      <td>0</td>\n",
       "      <td>0.0</td>\n",
       "    </tr>\n",
       "    <tr>\n",
       "      <th>SeniorCitizen</th>\n",
       "      <td>0</td>\n",
       "      <td>0.0</td>\n",
       "    </tr>\n",
       "    <tr>\n",
       "      <th>Partner</th>\n",
       "      <td>0</td>\n",
       "      <td>0.0</td>\n",
       "    </tr>\n",
       "    <tr>\n",
       "      <th>Dependents</th>\n",
       "      <td>0</td>\n",
       "      <td>0.0</td>\n",
       "    </tr>\n",
       "    <tr>\n",
       "      <th>tenure</th>\n",
       "      <td>0</td>\n",
       "      <td>0.0</td>\n",
       "    </tr>\n",
       "  </tbody>\n",
       "</table>\n",
       "</div>"
      ],
      "text/plain": [
       "               Total  Percent\n",
       "Churn              0      0.0\n",
       "TotalCharges       0      0.0\n",
       "SeniorCitizen      0      0.0\n",
       "Partner            0      0.0\n",
       "Dependents         0      0.0\n",
       "tenure             0      0.0"
      ]
     },
     "execution_count": 18,
     "metadata": {},
     "output_type": "execute_result"
    }
   ],
   "source": [
    "#missing data\n",
    "total = data.isnull().sum().sort_values(ascending=False)\n",
    "percent = (data.isnull().sum()/data.isnull().count()).sort_values(ascending=False)\n",
    "missing_data = pd.concat([total, percent], axis=1, keys=['Total', 'Percent'])\n",
    "missing_data.head(6)"
   ]
  },
  {
   "cell_type": "markdown",
   "metadata": {
    "_uuid": "61e6ce7719b2e25b699d0333ef3f6798b19fd0a9"
   },
   "source": [
    "**<font color='tomato'> Finding</font>**\n",
    "\n",
    "    No missing data ??"
   ]
  },
  {
   "cell_type": "code",
   "execution_count": 19,
   "metadata": {
    "_uuid": "d6d6a168f3759a07a809b6dd32b9836712ef4fe0"
   },
   "outputs": [
    {
     "data": {
      "text/html": [
       "<div>\n",
       "<style scoped>\n",
       "    .dataframe tbody tr th:only-of-type {\n",
       "        vertical-align: middle;\n",
       "    }\n",
       "\n",
       "    .dataframe tbody tr th {\n",
       "        vertical-align: top;\n",
       "    }\n",
       "\n",
       "    .dataframe thead th {\n",
       "        text-align: right;\n",
       "    }\n",
       "</style>\n",
       "<table border=\"1\" class=\"dataframe\">\n",
       "  <thead>\n",
       "    <tr style=\"text-align: right;\">\n",
       "      <th></th>\n",
       "      <th>gender</th>\n",
       "      <th>SeniorCitizen</th>\n",
       "      <th>Partner</th>\n",
       "      <th>Dependents</th>\n",
       "      <th>tenure</th>\n",
       "      <th>PhoneService</th>\n",
       "      <th>MultipleLines</th>\n",
       "      <th>InternetService</th>\n",
       "      <th>OnlineSecurity</th>\n",
       "      <th>OnlineBackup</th>\n",
       "      <th>DeviceProtection</th>\n",
       "      <th>TechSupport</th>\n",
       "      <th>StreamingTV</th>\n",
       "      <th>StreamingMovies</th>\n",
       "      <th>Contract</th>\n",
       "      <th>PaperlessBilling</th>\n",
       "      <th>PaymentMethod</th>\n",
       "      <th>MonthlyCharges</th>\n",
       "      <th>TotalCharges</th>\n",
       "      <th>Churn</th>\n",
       "    </tr>\n",
       "  </thead>\n",
       "  <tbody>\n",
       "    <tr>\n",
       "      <th>0</th>\n",
       "      <td>Female</td>\n",
       "      <td>0</td>\n",
       "      <td>Yes</td>\n",
       "      <td>No</td>\n",
       "      <td>1</td>\n",
       "      <td>No</td>\n",
       "      <td>No phone service</td>\n",
       "      <td>DSL</td>\n",
       "      <td>No</td>\n",
       "      <td>Yes</td>\n",
       "      <td>No</td>\n",
       "      <td>No</td>\n",
       "      <td>No</td>\n",
       "      <td>No</td>\n",
       "      <td>Month-to-month</td>\n",
       "      <td>Yes</td>\n",
       "      <td>Electronic check</td>\n",
       "      <td>29.85</td>\n",
       "      <td>29.85</td>\n",
       "      <td>0</td>\n",
       "    </tr>\n",
       "    <tr>\n",
       "      <th>1</th>\n",
       "      <td>Male</td>\n",
       "      <td>0</td>\n",
       "      <td>No</td>\n",
       "      <td>No</td>\n",
       "      <td>34</td>\n",
       "      <td>Yes</td>\n",
       "      <td>No</td>\n",
       "      <td>DSL</td>\n",
       "      <td>Yes</td>\n",
       "      <td>No</td>\n",
       "      <td>Yes</td>\n",
       "      <td>No</td>\n",
       "      <td>No</td>\n",
       "      <td>No</td>\n",
       "      <td>One year</td>\n",
       "      <td>No</td>\n",
       "      <td>Mailed check</td>\n",
       "      <td>56.95</td>\n",
       "      <td>1889.5</td>\n",
       "      <td>0</td>\n",
       "    </tr>\n",
       "    <tr>\n",
       "      <th>2</th>\n",
       "      <td>Male</td>\n",
       "      <td>0</td>\n",
       "      <td>No</td>\n",
       "      <td>No</td>\n",
       "      <td>2</td>\n",
       "      <td>Yes</td>\n",
       "      <td>No</td>\n",
       "      <td>DSL</td>\n",
       "      <td>Yes</td>\n",
       "      <td>Yes</td>\n",
       "      <td>No</td>\n",
       "      <td>No</td>\n",
       "      <td>No</td>\n",
       "      <td>No</td>\n",
       "      <td>Month-to-month</td>\n",
       "      <td>Yes</td>\n",
       "      <td>Mailed check</td>\n",
       "      <td>53.85</td>\n",
       "      <td>108.15</td>\n",
       "      <td>1</td>\n",
       "    </tr>\n",
       "    <tr>\n",
       "      <th>3</th>\n",
       "      <td>Male</td>\n",
       "      <td>0</td>\n",
       "      <td>No</td>\n",
       "      <td>No</td>\n",
       "      <td>45</td>\n",
       "      <td>No</td>\n",
       "      <td>No phone service</td>\n",
       "      <td>DSL</td>\n",
       "      <td>Yes</td>\n",
       "      <td>No</td>\n",
       "      <td>Yes</td>\n",
       "      <td>Yes</td>\n",
       "      <td>No</td>\n",
       "      <td>No</td>\n",
       "      <td>One year</td>\n",
       "      <td>No</td>\n",
       "      <td>Bank transfer (automatic)</td>\n",
       "      <td>42.30</td>\n",
       "      <td>1840.75</td>\n",
       "      <td>0</td>\n",
       "    </tr>\n",
       "    <tr>\n",
       "      <th>4</th>\n",
       "      <td>Female</td>\n",
       "      <td>0</td>\n",
       "      <td>No</td>\n",
       "      <td>No</td>\n",
       "      <td>2</td>\n",
       "      <td>Yes</td>\n",
       "      <td>No</td>\n",
       "      <td>Fiber optic</td>\n",
       "      <td>No</td>\n",
       "      <td>No</td>\n",
       "      <td>No</td>\n",
       "      <td>No</td>\n",
       "      <td>No</td>\n",
       "      <td>No</td>\n",
       "      <td>Month-to-month</td>\n",
       "      <td>Yes</td>\n",
       "      <td>Electronic check</td>\n",
       "      <td>70.70</td>\n",
       "      <td>151.65</td>\n",
       "      <td>1</td>\n",
       "    </tr>\n",
       "  </tbody>\n",
       "</table>\n",
       "</div>"
      ],
      "text/plain": [
       "   gender  SeniorCitizen Partner Dependents  tenure PhoneService  \\\n",
       "0  Female              0     Yes         No       1           No   \n",
       "1    Male              0      No         No      34          Yes   \n",
       "2    Male              0      No         No       2          Yes   \n",
       "3    Male              0      No         No      45           No   \n",
       "4  Female              0      No         No       2          Yes   \n",
       "\n",
       "      MultipleLines InternetService OnlineSecurity OnlineBackup  \\\n",
       "0  No phone service             DSL             No          Yes   \n",
       "1                No             DSL            Yes           No   \n",
       "2                No             DSL            Yes          Yes   \n",
       "3  No phone service             DSL            Yes           No   \n",
       "4                No     Fiber optic             No           No   \n",
       "\n",
       "  DeviceProtection TechSupport StreamingTV StreamingMovies        Contract  \\\n",
       "0               No          No          No              No  Month-to-month   \n",
       "1              Yes          No          No              No        One year   \n",
       "2               No          No          No              No  Month-to-month   \n",
       "3              Yes         Yes          No              No        One year   \n",
       "4               No          No          No              No  Month-to-month   \n",
       "\n",
       "  PaperlessBilling              PaymentMethod  MonthlyCharges TotalCharges  \\\n",
       "0              Yes           Electronic check           29.85        29.85   \n",
       "1               No               Mailed check           56.95       1889.5   \n",
       "2              Yes               Mailed check           53.85       108.15   \n",
       "3               No  Bank transfer (automatic)           42.30      1840.75   \n",
       "4              Yes           Electronic check           70.70       151.65   \n",
       "\n",
       "   Churn  \n",
       "0      0  \n",
       "1      0  \n",
       "2      1  \n",
       "3      0  \n",
       "4      1  "
      ]
     },
     "execution_count": 19,
     "metadata": {},
     "output_type": "execute_result"
    }
   ],
   "source": [
    "data.head(5)"
   ]
  },
  {
   "cell_type": "markdown",
   "metadata": {
    "_uuid": "c9e2e32146d9a4693864deb24f0671e1accc4d92"
   },
   "source": [
    "**<font color='royalblue'> Preprocessing</font>**\n",
    "\n",
    "#### Gender : Customer gender (female, male)\n",
    "\n",
    "    Because we can't put string in model, then I decide to create new binary columns."
   ]
  },
  {
   "cell_type": "code",
   "execution_count": 20,
   "metadata": {
    "_uuid": "15e5d6aa972ecde0abe2f576993faa609ca5d4a0"
   },
   "outputs": [
    {
     "data": {
      "text/plain": [
       "0    Female\n",
       "1      Male\n",
       "2      Male\n",
       "3      Male\n",
       "4    Female\n",
       "Name: gender, dtype: object"
      ]
     },
     "execution_count": 20,
     "metadata": {},
     "output_type": "execute_result"
    }
   ],
   "source": [
    "data['gender'].head()"
   ]
  },
  {
   "cell_type": "code",
   "execution_count": 21,
   "metadata": {
    "_uuid": "1f5a5b43ef75c3f31ed4f03ad508cbca76447479"
   },
   "outputs": [
    {
     "data": {
      "image/png": "[encoded data removed]",
      "text/plain": [
       "<Figure size 360x360 with 1 Axes>"
      ]
     },
     "metadata": {
      "needs_background": "light"
     },
     "output_type": "display_data"
    }
   ],
   "source": [
    "g = sns.factorplot(y=\"Churn\",x=\"gender\",data=data,kind=\"bar\" ,palette = \"Pastel1\")\n"
   ]
  },
  {
   "cell_type": "code",
   "execution_count": 22,
   "metadata": {
    "_uuid": "d3f95e6bee9824716f1086078f1d51351824b7a0"
   },
   "outputs": [],
   "source": [
    "data = pd.get_dummies(data=data, columns=['gender'])"
   ]
  },
  {
   "cell_type": "markdown",
   "metadata": {
    "_uuid": "9f55e3a326e3f5b619a9b14f25e8fa953cbb1bac"
   },
   "source": [
    "**<font color='royalblue'> Preprocessing</font>**\n",
    "\n",
    "#### SeniorCitizen : Whether the customer is a senior citizen or not (1, 0)\n",
    "    this feature is ready to use"
   ]
  },
  {
   "cell_type": "code",
   "execution_count": 23,
   "metadata": {
    "_uuid": "928f3fef5a4421f2c56412862307ca21017357e1"
   },
   "outputs": [
    {
     "data": {
      "text/plain": [
       "0    5901\n",
       "1    1142\n",
       "Name: SeniorCitizen, dtype: int64"
      ]
     },
     "execution_count": 23,
     "metadata": {},
     "output_type": "execute_result"
    }
   ],
   "source": [
    "data['SeniorCitizen'].value_counts()"
   ]
  },
  {
   "cell_type": "markdown",
   "metadata": {
    "_uuid": "27289c49ced601a7415f9b65012805ad74c2a5a5"
   },
   "source": [
    "**<font color='royalblue'> Preprocessing</font>**\n",
    "\n",
    "#### Partner : Whether the customer has a partner or not (Yes, No)\n",
    "    This feature value has the same meaning with SeniorCitizen \n",
    "    but it is a \"Yes/No\" values then we need to change format"
   ]
  },
  {
   "cell_type": "code",
   "execution_count": 24,
   "metadata": {
    "_uuid": "4cd7281ffbbc324959390975b7ce17a8b187bd1e"
   },
   "outputs": [
    {
     "data": {
      "text/plain": [
       "No     3641\n",
       "Yes    3402\n",
       "Name: Partner, dtype: int64"
      ]
     },
     "execution_count": 24,
     "metadata": {},
     "output_type": "execute_result"
    }
   ],
   "source": [
    "data['Partner'].value_counts()"
   ]
  },
  {
   "cell_type": "code",
   "execution_count": 25,
   "metadata": {
    "_uuid": "96b23fffef7db69567daf36b1549d86be1d7a41f"
   },
   "outputs": [
    {
     "data": {
      "text/plain": [
       "0    3641\n",
       "1    3402\n",
       "Name: Partner, dtype: int64"
      ]
     },
     "execution_count": 25,
     "metadata": {},
     "output_type": "execute_result"
    }
   ],
   "source": [
    "data['Partner'] = data['Partner'].map(lambda s :1  if s =='Yes' else 0)\n",
    "data['Partner'].value_counts()"
   ]
  },
  {
   "cell_type": "markdown",
   "metadata": {
    "_uuid": "ef250f1ab4dc5d199a114a0f348c4af7ae44a8da"
   },
   "source": [
    "**<font color='royalblue'> Preprocessing</font>**\n",
    "\n",
    "#### Dependents, PhoneService, PaperlessBilling\n",
    "    Do the same what we do in \"Partner\" column\n",
    "    "
   ]
  },
  {
   "cell_type": "code",
   "execution_count": 26,
   "metadata": {
    "_uuid": "d2b34205b35006307fbdc048eea1380bfdbd6b32"
   },
   "outputs": [],
   "source": [
    "data['Dependents'] = data['Dependents'].map(lambda s :1  if s =='Yes' else 0)\n",
    "data['PhoneService'] = data['PhoneService'].map(lambda s :1  if s =='Yes' else 0)\n",
    "data['PaperlessBilling'] = data['PaperlessBilling'].map(lambda s :1  if s =='Yes' else 0)\n"
   ]
  },
  {
   "cell_type": "markdown",
   "metadata": {
    "_uuid": "1ed3b3979cad71f8ca6dd8d7cb97c845a36c23ff"
   },
   "source": [
    "**<font color='royalblue'> Preprocessing</font>**\n",
    "\n",
    "#### Tenure : Number of months the customer has stayed with the company\n",
    "    This is numerical feature we can cut it to bin width but I think it ready to use  \n",
    "    "
   ]
  },
  {
   "cell_type": "code",
   "execution_count": 27,
   "metadata": {
    "_uuid": "154705e350d3d7617b1f0f0f535f27cbd74025ec"
   },
   "outputs": [
    {
     "data": {
      "text/plain": [
       "0     1\n",
       "1    34\n",
       "2     2\n",
       "3    45\n",
       "4     2\n",
       "Name: tenure, dtype: int64"
      ]
     },
     "execution_count": 27,
     "metadata": {},
     "output_type": "execute_result"
    }
   ],
   "source": [
    "data['tenure'].head()"
   ]
  },
  {
   "cell_type": "code",
   "execution_count": 28,
   "metadata": {
    "_uuid": "1b6d8cfd5d81d927bda0b36bc37ed85ebaeb721b"
   },
   "outputs": [
    {
     "data": {
      "image/png": "[encoded data removed]",
      "text/plain": [
       "<Figure size 576x576 with 1 Axes>"
      ]
     },
     "metadata": {
      "needs_background": "light"
     },
     "output_type": "display_data"
    }
   ],
   "source": [
    "# tenure distibution \n",
    "g = sns.kdeplot(data.tenure[(data[\"Churn\"] == 0) ], color=\"Red\", shade = True)\n",
    "g = sns.kdeplot(data.tenure[(data[\"Churn\"] == 1) ], ax =g, color=\"Blue\", shade= True)\n",
    "g.set_xlabel(\"tenure\")\n",
    "g.set_ylabel(\"Frequency\")\n",
    "plt.title('Distribution of tenure comparing with churn feature')\n",
    "g = g.legend([\"Not Churn\",\"Churn\"])"
   ]
  },
  {
   "cell_type": "markdown",
   "metadata": {
    "_uuid": "fb1aac3d7deeac30523658cdccd76c62f25beaa4"
   },
   "source": [
    "**<font color='tomato'> Finding</font>**\n",
    "\n",
    "    Seem like most of churn customer stayed in company less than 20 months\n",
    "    and customer with high value in tenure has low probability to churn"
   ]
  },
  {
   "cell_type": "markdown",
   "metadata": {
    "_uuid": "da316e0cfc8fd5b2ad3f12fed14fce7854518323"
   },
   "source": [
    "**<font color='royalblue'> Preprocessing</font>**\n",
    "\n",
    "#### MultipleLines : Whether the customer has multiple lines or not (Yes, No, No phone service)\n",
    "    look like Yes No feature but it contain 3 values. \n",
    "    I should create new column that can tell model this customer has phone service or not.\n",
    "    but we already have 'PhoneService' columns, \n",
    "    then I decide to assume that \"No phone service\" has the same meaning with \"No\"\n",
    "    "
   ]
  },
  {
   "cell_type": "code",
   "execution_count": 29,
   "metadata": {
    "_uuid": "041edbb4425ff049b362c194a58f25f19e0bcf13",
    "scrolled": true
   },
   "outputs": [
    {
     "data": {
      "text/plain": [
       "No                  3390\n",
       "Yes                 2971\n",
       "No phone service     682\n",
       "Name: MultipleLines, dtype: int64"
      ]
     },
     "execution_count": 29,
     "metadata": {},
     "output_type": "execute_result"
    }
   ],
   "source": [
    "data['MultipleLines'].value_counts()"
   ]
  },
  {
   "cell_type": "code",
   "execution_count": 30,
   "metadata": {
    "_uuid": "4368bf1beb6f5c6a3b8f427d9c60e5dcf113fb37"
   },
   "outputs": [
    {
     "data": {
      "text/plain": [
       "0    4072\n",
       "1    2971\n",
       "Name: MultipleLines, dtype: int64"
      ]
     },
     "execution_count": 30,
     "metadata": {},
     "output_type": "execute_result"
    }
   ],
   "source": [
    "data['MultipleLines'].replace('No phone service','No', inplace=True)\n",
    "data['MultipleLines'] = data['MultipleLines'].map(lambda s :1  if s =='Yes' else 0)\n",
    "data['MultipleLines'].value_counts()"
   ]
  },
  {
   "cell_type": "markdown",
   "metadata": {
    "_uuid": "1828277b7f9d0d0f9a2dbc71819d18c033ab5486"
   },
   "source": [
    "**<font color='royalblue'> Preprocessing</font>**\n",
    "\n",
    "#### InternetService : Customer’s internet service provider (DSL, Fiber optic, No)\n",
    "    First of all, I want something like \"PhoneService\" column, \n",
    "    then I decide to create Has_InternetService column which can tell this customer has internet service or not.\n",
    "    Next, if they have internet service we need to tell model what kind of service"
   ]
  },
  {
   "cell_type": "code",
   "execution_count": 31,
   "metadata": {
    "_uuid": "315e28c4d4f0016130b6104495e03a61211b783a"
   },
   "outputs": [
    {
     "data": {
      "text/plain": [
       "Fiber optic    3096\n",
       "DSL            2421\n",
       "No             1526\n",
       "Name: InternetService, dtype: int64"
      ]
     },
     "execution_count": 31,
     "metadata": {},
     "output_type": "execute_result"
    }
   ],
   "source": [
    "data['InternetService'].value_counts()"
   ]
  },
  {
   "cell_type": "code",
   "execution_count": 32,
   "metadata": {
    "_uuid": "98e50313cac6b27bb048dcf7e7117c1b1d51d6ee"
   },
   "outputs": [],
   "source": [
    "data['Has_InternetService'] = data['InternetService'].map(lambda s :0  if s =='No' else 1)\n",
    "data['Fiber_optic'] = data['InternetService'].map(lambda s :1  if s =='Fiber optic' else 0)\n",
    "data['DSL'] = data['InternetService'].map(lambda s :1  if s =='DSL' else 0)\n"
   ]
  },
  {
   "cell_type": "code",
   "execution_count": 33,
   "metadata": {
    "_uuid": "90755cc8c1d09e090b12a83f46db17a721e32cef"
   },
   "outputs": [
    {
     "name": "stdout",
     "output_type": "stream",
     "text": [
      "1    5517\n",
      "0    1526\n",
      "Name: Has_InternetService, dtype: int64\n",
      "0    3947\n",
      "1    3096\n",
      "Name: Fiber_optic, dtype: int64\n",
      "0    4622\n",
      "1    2421\n",
      "Name: DSL, dtype: int64\n"
     ]
    }
   ],
   "source": [
    "print(data['Has_InternetService'].value_counts())\n",
    "print(data['Fiber_optic'].value_counts())\n",
    "print(data['DSL'].value_counts())\n",
    "data.drop(['InternetService'], axis=1, inplace=True)"
   ]
  },
  {
   "cell_type": "markdown",
   "metadata": {
    "_uuid": "3339da2a31e69891a22a79e1764e5cc420b15de3"
   },
   "source": [
    "**<font color='royalblue'> Preprocessing</font>**\n",
    "\n",
    "**OnlineSecurity OnlineBackup DeviceProtection <br>\n",
    " TechSupport StreamingTV StreamingMovies**\n",
    "\n",
    "     All of these columns have the same format,I do the samething what I do in \"MultipleLines\" column"
   ]
  },
  {
   "cell_type": "code",
   "execution_count": 34,
   "metadata": {
    "_uuid": "26ca6ba6ea34d64b1f274ff0f849bb06d185fc1b"
   },
   "outputs": [],
   "source": [
    "data['OnlineSecurity'] = data['OnlineSecurity'].map(lambda s :1  if s =='Yes' else 0)\n",
    "data['OnlineBackup'] = data['OnlineBackup'].map(lambda s :1  if s =='Yes' else 0)\n",
    "data['DeviceProtection'] = data['DeviceProtection'].map(lambda s :1  if s =='Yes' else 0)\n",
    "data['TechSupport'] = data['TechSupport'].map(lambda s :1  if s =='Yes' else 0)\n",
    "data['StreamingTV'] = data['StreamingTV'].map(lambda s :1  if s =='Yes' else 0)\n",
    "data['StreamingMovies'] = data['StreamingMovies'].map(lambda s :1  if s =='Yes' else 0)"
   ]
  },
  {
   "cell_type": "markdown",
   "metadata": {
    "_uuid": "f81b827afe777cecd7a8893758fe87865a682e72"
   },
   "source": [
    "**<font color='royalblue'> Preprocessing</font>**\n",
    "\n",
    "#### PaymentMethod : The customer’s payment method (Electronic check, Mailed check, Bank transfer (automatic), Credit card (automatic))\n",
    "    This is categorical feature, I will use pandas function \"get_dummies\" for this feature"
   ]
  },
  {
   "cell_type": "code",
   "execution_count": 35,
   "metadata": {
    "_uuid": "8b4253ccf4fa4215caedde7f0671b569539718e7"
   },
   "outputs": [
    {
     "data": {
      "text/plain": [
       "Electronic check             2365\n",
       "Mailed check                 1612\n",
       "Bank transfer (automatic)    1544\n",
       "Credit card (automatic)      1522\n",
       "Name: PaymentMethod, dtype: int64"
      ]
     },
     "execution_count": 35,
     "metadata": {},
     "output_type": "execute_result"
    }
   ],
   "source": [
    "data['PaymentMethod'].value_counts()"
   ]
  },
  {
   "cell_type": "code",
   "execution_count": 36,
   "metadata": {
    "_uuid": "ebbf6afad056e2eddd87684ea785ff8ba5dd991b"
   },
   "outputs": [],
   "source": [
    "data = pd.get_dummies(data=data, columns=['PaymentMethod'])"
   ]
  },
  {
   "cell_type": "markdown",
   "metadata": {
    "_uuid": "b3dea6320d818d90e2f41f3a172c52f05a37a8dd"
   },
   "source": [
    "**<font color='forestgreen'> Note</font>**\n",
    "\n",
    "    What we got from get_dummies ??"
   ]
  },
  {
   "cell_type": "code",
   "execution_count": 37,
   "metadata": {
    "_uuid": "f156172dd68c5773cc5a0038c6a679f10593fc87"
   },
   "outputs": [
    {
     "data": {
      "text/html": [
       "<div>\n",
       "<style scoped>\n",
       "    .dataframe tbody tr th:only-of-type {\n",
       "        vertical-align: middle;\n",
       "    }\n",
       "\n",
       "    .dataframe tbody tr th {\n",
       "        vertical-align: top;\n",
       "    }\n",
       "\n",
       "    .dataframe thead th {\n",
       "        text-align: right;\n",
       "    }\n",
       "</style>\n",
       "<table border=\"1\" class=\"dataframe\">\n",
       "  <thead>\n",
       "    <tr style=\"text-align: right;\">\n",
       "      <th></th>\n",
       "      <th>PaymentMethod_Electronic check</th>\n",
       "      <th>PaymentMethod_Mailed check</th>\n",
       "      <th>PaymentMethod_Bank transfer (automatic)</th>\n",
       "      <th>PaymentMethod_Credit card (automatic)</th>\n",
       "    </tr>\n",
       "  </thead>\n",
       "  <tbody>\n",
       "    <tr>\n",
       "      <th>0</th>\n",
       "      <td>1</td>\n",
       "      <td>0</td>\n",
       "      <td>0</td>\n",
       "      <td>0</td>\n",
       "    </tr>\n",
       "    <tr>\n",
       "      <th>1</th>\n",
       "      <td>0</td>\n",
       "      <td>1</td>\n",
       "      <td>0</td>\n",
       "      <td>0</td>\n",
       "    </tr>\n",
       "    <tr>\n",
       "      <th>2</th>\n",
       "      <td>0</td>\n",
       "      <td>1</td>\n",
       "      <td>0</td>\n",
       "      <td>0</td>\n",
       "    </tr>\n",
       "    <tr>\n",
       "      <th>3</th>\n",
       "      <td>0</td>\n",
       "      <td>0</td>\n",
       "      <td>1</td>\n",
       "      <td>0</td>\n",
       "    </tr>\n",
       "    <tr>\n",
       "      <th>4</th>\n",
       "      <td>1</td>\n",
       "      <td>0</td>\n",
       "      <td>0</td>\n",
       "      <td>0</td>\n",
       "    </tr>\n",
       "  </tbody>\n",
       "</table>\n",
       "</div>"
      ],
      "text/plain": [
       "   PaymentMethod_Electronic check  PaymentMethod_Mailed check  \\\n",
       "0                               1                           0   \n",
       "1                               0                           1   \n",
       "2                               0                           1   \n",
       "3                               0                           0   \n",
       "4                               1                           0   \n",
       "\n",
       "   PaymentMethod_Bank transfer (automatic)  \\\n",
       "0                                        0   \n",
       "1                                        0   \n",
       "2                                        0   \n",
       "3                                        1   \n",
       "4                                        0   \n",
       "\n",
       "   PaymentMethod_Credit card (automatic)  \n",
       "0                                      0  \n",
       "1                                      0  \n",
       "2                                      0  \n",
       "3                                      0  \n",
       "4                                      0  "
      ]
     },
     "execution_count": 37,
     "metadata": {},
     "output_type": "execute_result"
    }
   ],
   "source": [
    "data[['PaymentMethod_Electronic check',\n",
    "      'PaymentMethod_Mailed check',\n",
    "      'PaymentMethod_Bank transfer (automatic)',\n",
    "      'PaymentMethod_Credit card (automatic)']].head()"
   ]
  },
  {
   "cell_type": "markdown",
   "metadata": {
    "_uuid": "9f9cd639c0e74c414e6fc3188644351fdf6187c1"
   },
   "source": [
    "**<font color='royalblue'> Preprocessing</font>**\n",
    "\n",
    "#### Contract : The contract term of the customer (Month-to-month, One year, Two year)\n",
    "    this is also categorical value, let \"get_dummies\" it\n"
   ]
  },
  {
   "cell_type": "code",
   "execution_count": 38,
   "metadata": {
    "_uuid": "0cbce7a3528e7f7d9b23c69f99da537177a8f869"
   },
   "outputs": [
    {
     "data": {
      "text/plain": [
       "Month-to-month    3875\n",
       "Two year          1695\n",
       "One year          1473\n",
       "Name: Contract, dtype: int64"
      ]
     },
     "execution_count": 38,
     "metadata": {},
     "output_type": "execute_result"
    }
   ],
   "source": [
    "data['Contract'].value_counts()"
   ]
  },
  {
   "cell_type": "code",
   "execution_count": 39,
   "metadata": {
    "_uuid": "4ba4f52adecd6d8d9a1be1599872fa11cdeb685b"
   },
   "outputs": [],
   "source": [
    "data = pd.get_dummies(data=data, columns=['Contract'])"
   ]
  },
  {
   "cell_type": "markdown",
   "metadata": {
    "_uuid": "98ecaf8fd844c84443b10637b7205fef93818b7f"
   },
   "source": [
    "**<font color='royalblue'> Preprocessing</font>**\n",
    "\n",
    "#### MonthlyCharges : The amount charged to the customer monthly\n",
    "    numerical features and lucky!! it ready to use"
   ]
  },
  {
   "cell_type": "code",
   "execution_count": 40,
   "metadata": {
    "_uuid": "c1a26d54750d624d7daa0a9e65dc9366c4ab5146"
   },
   "outputs": [
    {
     "data": {
      "text/plain": [
       "0    29.85\n",
       "1    56.95\n",
       "2    53.85\n",
       "3    42.30\n",
       "4    70.70\n",
       "Name: MonthlyCharges, dtype: float64"
      ]
     },
     "execution_count": 40,
     "metadata": {},
     "output_type": "execute_result"
    }
   ],
   "source": [
    "data['MonthlyCharges'].head()"
   ]
  },
  {
   "cell_type": "code",
   "execution_count": 41,
   "metadata": {
    "_uuid": "848f2431931f0f2c403c8af8d95679c8266b0e7a"
   },
   "outputs": [
    {
     "data": {
      "image/png": "[encoded data removed]",
      "text/plain": [
       "<Figure size 360x360 with 1 Axes>"
      ]
     },
     "metadata": {
      "needs_background": "light"
     },
     "output_type": "display_data"
    }
   ],
   "source": [
    "g = sns.factorplot(x=\"Churn\", y = \"MonthlyCharges\",data = data, kind=\"box\", palette = \"Pastel1\")"
   ]
  },
  {
   "cell_type": "markdown",
   "metadata": {
    "_uuid": "eb85b61f8b4326e214ed63ee660c95f2a2a8b45c"
   },
   "source": [
    "**<font color='tomato'> Finding</font>**\n",
    "\n",
    "    According to above plot, High MonthlyCharges may affect to churn probability.\n",
    "    And seem like customer will not churn if they have low amount in MonthlyCharges"
   ]
  },
  {
   "cell_type": "markdown",
   "metadata": {
    "_uuid": "80b227304d7e698234fd05e1c09c46b8d373d2f1"
   },
   "source": [
    "**<font color='royalblue'> Preprocessing</font>**\n",
    "\n",
    "#### TotalCharges : The total amount charged to the customer\n",
    "    numerical feature !?, but now it still in object type.\n",
    "    we need to fix it."
   ]
  },
  {
   "cell_type": "code",
   "execution_count": 42,
   "metadata": {
    "_uuid": "ba1e9f6926c627cb8ec789e128a4c96a420ad2ba"
   },
   "outputs": [
    {
     "data": {
      "text/plain": [
       "0      29.85\n",
       "1     1889.5\n",
       "2     108.15\n",
       "3    1840.75\n",
       "4     151.65\n",
       "Name: TotalCharges, dtype: object"
      ]
     },
     "execution_count": 42,
     "metadata": {},
     "output_type": "execute_result"
    }
   ],
   "source": [
    "data['TotalCharges'].head()"
   ]
  },
  {
   "cell_type": "code",
   "execution_count": 43,
   "metadata": {
    "_uuid": "7a94aa4cf08470b8d980832cc5173be3e6a55873"
   },
   "outputs": [
    {
     "data": {
      "text/plain": [
       "11"
      ]
     },
     "execution_count": 43,
     "metadata": {},
     "output_type": "execute_result"
    }
   ],
   "source": [
    "## because 11 rows contain \" \" , it means 11 missing data in our dataset\n",
    "len(data[data['TotalCharges'] == \" \"])"
   ]
  },
  {
   "cell_type": "code",
   "execution_count": 44,
   "metadata": {
    "_uuid": "6a13635716c53562b17afe3c1004cc8a5a073e3b"
   },
   "outputs": [],
   "source": [
    "## Drop missing data\n",
    "data = data[data['TotalCharges'] != \" \"]"
   ]
  },
  {
   "cell_type": "code",
   "execution_count": 45,
   "metadata": {
    "_uuid": "691cafcfd767d3d8812c21f79db2ed8d3485b318"
   },
   "outputs": [],
   "source": [
    "data['TotalCharges'] = pd.to_numeric(data['TotalCharges'])\n",
    "## At first time I use this command but it error because some value contain \" \"\n",
    "## That why I know \" \" hide in our dataset "
   ]
  },
  {
   "cell_type": "code",
   "execution_count": 46,
   "metadata": {
    "_uuid": "9938fa1259ad287db9d58c8f8cf74d8f770596b9"
   },
   "outputs": [
    {
     "data": {
      "image/png": "[encoded data removed]",
      "text/plain": [
       "<Figure size 360x360 with 1 Axes>"
      ]
     },
     "metadata": {
      "needs_background": "light"
     },
     "output_type": "display_data"
    }
   ],
   "source": [
    "g = sns.factorplot(y=\"TotalCharges\",x=\"Churn\",data=data,kind=\"boxen\", palette = \"Pastel2\")"
   ]
  },
  {
   "cell_type": "markdown",
   "metadata": {
    "_uuid": "be36ebafdcba3fd980fd8d1759d8ba2f7fdc647d"
   },
   "source": [
    "**<font color='tomato'> Finding</font>**\n",
    "\n",
    "    From boxen plot, most of churn customer has less than 2000 in total chrage.\n",
    "    In range of 2500 to 8000, population of loyalty customer is around twice as amount as churn customer."
   ]
  },
  {
   "cell_type": "code",
   "execution_count": 47,
   "metadata": {
    "_uuid": "6cc2e952e45b783fff1d96db6d8d9ecf9d60c8e8"
   },
   "outputs": [
    {
     "name": "stdout",
     "output_type": "stream",
     "text": [
      "<class 'pandas.core.frame.DataFrame'>\n",
      "Int64Index: 7032 entries, 0 to 7042\n",
      "Data columns (total 28 columns):\n",
      " #   Column                                   Non-Null Count  Dtype  \n",
      "---  ------                                   --------------  -----  \n",
      " 0   SeniorCitizen                            7032 non-null   int64  \n",
      " 1   Partner                                  7032 non-null   int64  \n",
      " 2   Dependents                               7032 non-null   int64  \n",
      " 3   tenure                                   7032 non-null   int64  \n",
      " 4   PhoneService                             7032 non-null   int64  \n",
      " 5   MultipleLines                            7032 non-null   int64  \n",
      " 6   OnlineSecurity                           7032 non-null   int64  \n",
      " 7   OnlineBackup                             7032 non-null   int64  \n",
      " 8   DeviceProtection                         7032 non-null   int64  \n",
      " 9   TechSupport                              7032 non-null   int64  \n",
      " 10  StreamingTV                              7032 non-null   int64  \n",
      " 11  StreamingMovies                          7032 non-null   int64  \n",
      " 12  PaperlessBilling                         7032 non-null   int64  \n",
      " 13  MonthlyCharges                           7032 non-null   float64\n",
      " 14  TotalCharges                             7032 non-null   float64\n",
      " 15  Churn                                    7032 non-null   int64  \n",
      " 16  gender_Female                            7032 non-null   uint8  \n",
      " 17  gender_Male                              7032 non-null   uint8  \n",
      " 18  Has_InternetService                      7032 non-null   int64  \n",
      " 19  Fiber_optic                              7032 non-null   int64  \n",
      " 20  DSL                                      7032 non-null   int64  \n",
      " 21  PaymentMethod_Bank transfer (automatic)  7032 non-null   uint8  \n",
      " 22  PaymentMethod_Credit card (automatic)    7032 non-null   uint8  \n",
      " 23  PaymentMethod_Electronic check           7032 non-null   uint8  \n",
      " 24  PaymentMethod_Mailed check               7032 non-null   uint8  \n",
      " 25  Contract_Month-to-month                  7032 non-null   uint8  \n",
      " 26  Contract_One year                        7032 non-null   uint8  \n",
      " 27  Contract_Two year                        7032 non-null   uint8  \n",
      "dtypes: float64(2), int64(17), uint8(9)\n",
      "memory usage: 1.4 MB\n"
     ]
    }
   ],
   "source": [
    "data.info()"
   ]
  },
  {
   "cell_type": "markdown",
   "metadata": {
    "_uuid": "054cd7fce11790cdd5a30d6030e03896c0fb796e"
   },
   "source": [
    "##  CreatingModel & Evaluate\n",
    "\n",
    "      In this step, I will use model with default parameter compare with tuning parameter by using grid search\n",
    "      Gridsearch is just like try to put all possible combining between parameter in ranges that we input.\n",
    "      It consume a lot of time, I decide to comment some line. you can try uncomment it when run in your local PC."
   ]
  },
  {
   "cell_type": "code",
   "execution_count": 48,
   "metadata": {
    "_uuid": "e1d1e3916e929b7738e0f237cc02af05bf7d3e9a"
   },
   "outputs": [],
   "source": [
    "data[\"Churn\"] = data[\"Churn\"].astype(int)\n",
    "\n",
    "Y_train = data[\"Churn\"]\n",
    "X_train = data.drop(labels = [\"Churn\"],axis = 1)"
   ]
  },
  {
   "cell_type": "markdown",
   "metadata": {
    "_uuid": "b6686613473ac3ca8229d6b14165453a230ed838"
   },
   "source": [
    "## Random Forest"
   ]
  },
  {
   "cell_type": "code",
   "execution_count": 49,
   "metadata": {
    "_uuid": "094a2ad9e85dbf1c7aeeafc3d2e197cc1b686d5f"
   },
   "outputs": [
    {
     "data": {
      "text/plain": [
       "RandomForestClassifier(random_state=15)"
      ]
     },
     "execution_count": 49,
     "metadata": {},
     "output_type": "execute_result"
    }
   ],
   "source": [
    "from sklearn.ensemble import RandomForestClassifier\n",
    "from sklearn.model_selection import  cross_val_score,GridSearchCV\n",
    "\n",
    "Rfclf = RandomForestClassifier(random_state=15)\n",
    "Rfclf.fit(X_train, Y_train)"
   ]
  },
  {
   "cell_type": "code",
   "execution_count": 50,
   "metadata": {
    "_uuid": "402d4842538ebabf4b20fdc4f9250b07125bc2ab"
   },
   "outputs": [
    {
     "name": "stdout",
     "output_type": "stream",
     "text": [
      "[0.79829545 0.80539773 0.79374111 0.79516358 0.77809388 0.74964438\n",
      " 0.80938834 0.79374111 0.80227596 0.80227596]\n"
     ]
    },
    {
     "data": {
      "text/plain": [
       "0.7928017506142506"
      ]
     },
     "execution_count": 50,
     "metadata": {},
     "output_type": "execute_result"
    }
   ],
   "source": [
    "# 10 Folds Cross Validation \n",
    "clf_score = cross_val_score(Rfclf, X_train, Y_train, cv=10)\n",
    "print(clf_score)\n",
    "clf_score.mean()"
   ]
  },
  {
   "cell_type": "markdown",
   "metadata": {
    "_uuid": "84adc8daeebcfd81b04371614df9a1fb3fbe6a34"
   },
   "source": [
    "**<font color='tomato'> Finding</font>**\n",
    "\n",
    "    My default random forest get around 78% accuracy from cross-validation"
   ]
  },
  {
   "cell_type": "code",
   "execution_count": 51,
   "metadata": {
    "_uuid": "0861953ac11ea844b79355991f2a511220892f51"
   },
   "outputs": [
    {
     "name": "stdout",
     "output_type": "stream",
     "text": [
      "\n",
      "Best parameters \n",
      "{'class_weight': {1: 1.5}, 'max_depth': 3, 'max_features': 'log2', 'n_estimators': 500}\n",
      "CPU times: user 3min 48s, sys: 810 ms, total: 3min 49s\n",
      "Wall time: 3min 51s\n"
     ]
    }
   ],
   "source": [
    "%%time\n",
    "param_grid  = { \n",
    "                'n_estimators' : [500,1200],\n",
    "               # 'min_samples_split': [2,5,10,15,100],\n",
    "               # 'min_samples_leaf': [1,2,5,10],\n",
    "                'max_depth': range(1,5,2),\n",
    "                'max_features' : ('log2', 'sqrt'),\n",
    "                'class_weight':[{1: w} for w in [1,1.5]]\n",
    "              }\n",
    "\n",
    "GridRF = GridSearchCV(RandomForestClassifier(random_state=15), param_grid)\n",
    "\n",
    "GridRF.fit(X_train, Y_train)\n",
    "#RF_preds = GridRF.predict_proba(X_test)[:, 1]\n",
    "#RF_performance = roc_auc_score(Y_test, RF_preds)\n",
    "\n",
    "print(\n",
    "    #'DecisionTree: Area under the ROC curve = {}'.format(RF_performance)\n",
    "     \"\\nBest parameters \\n\" + str(GridRF.best_params_))"
   ]
  },
  {
   "cell_type": "code",
   "execution_count": 52,
   "metadata": {
    "_uuid": "0d5d41dbff72f3fa5e093e23febaa24b710474f0"
   },
   "outputs": [
    {
     "data": {
      "text/plain": [
       "RandomForestClassifier(class_weight={1: 1.5}, max_depth=3, max_features='log2',\n",
       "                       n_estimators=500, random_state=15)"
      ]
     },
     "execution_count": 52,
     "metadata": {},
     "output_type": "execute_result"
    }
   ],
   "source": [
    "rf = RandomForestClassifier(random_state=15,**GridRF.best_params_)\n",
    "rf.fit(X_train, Y_train)"
   ]
  },
  {
   "cell_type": "markdown",
   "metadata": {
    "_uuid": "1d59221457fa931c4d7500cd490aa16080e414ee"
   },
   "source": [
    "## K-Fold CV with accuracy metric\n"
   ]
  },
  {
   "cell_type": "code",
   "execution_count": 53,
   "metadata": {
    "_uuid": "9fbfe9b7cc699ad54b8e069a8b62c583bd3c0fa4"
   },
   "outputs": [
    {
     "name": "stdout",
     "output_type": "stream",
     "text": [
      "[0.79971591 0.81676136 0.80654339 0.81507824 0.78093883 0.79658606\n",
      " 0.81365576 0.79658606 0.79089616 0.80369844]\n"
     ]
    },
    {
     "data": {
      "text/plain": [
       "0.8020460203025992"
      ]
     },
     "execution_count": 53,
     "metadata": {},
     "output_type": "execute_result"
    }
   ],
   "source": [
    "# 10 Folds Cross Validation \n",
    "clf_score = cross_val_score(rf, X_train, Y_train, cv=10)\n",
    "print(clf_score)\n",
    "clf_score.mean()\n",
    "    "
   ]
  },
  {
   "cell_type": "markdown",
   "metadata": {
    "_uuid": "0d354e71e5e19f84e250db061da91804070ebf1e"
   },
   "source": [
    "**<font color='tomato'> Finding</font>**\n",
    "\n",
    "    My grid-search random forest get around 80% accuracy from cross-validation,\n",
    "    a little bit improve from default parameter"
   ]
  },
  {
   "cell_type": "markdown",
   "metadata": {
    "_uuid": "7860d92dec16b0cbbf0e73bcc51d5ddbd0c96216"
   },
   "source": [
    "## Feature importances\n",
    "    another advantage from rule-based model"
   ]
  },
  {
   "cell_type": "code",
   "execution_count": 54,
   "metadata": {
    "_uuid": "8a6628ac229754981873d78483a14c9bd88b98e2"
   },
   "outputs": [
    {
     "data": {
      "text/html": [
       "<div>\n",
       "<style scoped>\n",
       "    .dataframe tbody tr th:only-of-type {\n",
       "        vertical-align: middle;\n",
       "    }\n",
       "\n",
       "    .dataframe tbody tr th {\n",
       "        vertical-align: top;\n",
       "    }\n",
       "\n",
       "    .dataframe thead th {\n",
       "        text-align: right;\n",
       "    }\n",
       "</style>\n",
       "<table border=\"1\" class=\"dataframe\">\n",
       "  <thead>\n",
       "    <tr style=\"text-align: right;\">\n",
       "      <th></th>\n",
       "      <th>0</th>\n",
       "      <th>Feature</th>\n",
       "    </tr>\n",
       "  </thead>\n",
       "  <tbody>\n",
       "    <tr>\n",
       "      <th>24</th>\n",
       "      <td>0.212571</td>\n",
       "      <td>Contract_Month-to-month</td>\n",
       "    </tr>\n",
       "    <tr>\n",
       "      <th>3</th>\n",
       "      <td>0.157862</td>\n",
       "      <td>tenure</td>\n",
       "    </tr>\n",
       "    <tr>\n",
       "      <th>26</th>\n",
       "      <td>0.119943</td>\n",
       "      <td>Contract_Two year</td>\n",
       "    </tr>\n",
       "    <tr>\n",
       "      <th>18</th>\n",
       "      <td>0.103963</td>\n",
       "      <td>Fiber_optic</td>\n",
       "    </tr>\n",
       "    <tr>\n",
       "      <th>22</th>\n",
       "      <td>0.079805</td>\n",
       "      <td>PaymentMethod_Electronic check</td>\n",
       "    </tr>\n",
       "  </tbody>\n",
       "</table>\n",
       "</div>"
      ],
      "text/plain": [
       "           0                         Feature\n",
       "24  0.212571         Contract_Month-to-month\n",
       "3   0.157862                          tenure\n",
       "26  0.119943               Contract_Two year\n",
       "18  0.103963                     Fiber_optic\n",
       "22  0.079805  PaymentMethod_Electronic check"
      ]
     },
     "execution_count": 54,
     "metadata": {},
     "output_type": "execute_result"
    }
   ],
   "source": [
    "Rfclf_fea = pd.DataFrame(rf.feature_importances_)\n",
    "Rfclf_fea[\"Feature\"] = list(X_train) \n",
    "Rfclf_fea.sort_values(by=0, ascending=False).head()"
   ]
  },
  {
   "cell_type": "code",
   "execution_count": 55,
   "metadata": {
    "_uuid": "b23a6cbad844222222f558f5b9be2795379c68a1"
   },
   "outputs": [
    {
     "data": {
      "image/png": "[encoded data removed]",
      "text/plain": [
       "<Figure size 576x576 with 1 Axes>"
      ]
     },
     "metadata": {
      "needs_background": "light"
     },
     "output_type": "display_data"
    }
   ],
   "source": [
    "g = sns.barplot(0,\"Feature\",data = Rfclf_fea.sort_values(by=0, ascending=False)[0:5], palette=\"Pastel1\",orient = \"h\")\n",
    "g.set_xlabel(\"Weight\")\n",
    "g = g.set_title(\"Random Forest\")"
   ]
  },
  {
   "cell_type": "markdown",
   "metadata": {
    "_uuid": "7b6ef51c6452516653a00e37d1ea88649296371b"
   },
   "source": [
    "## Confusion Matrix\n",
    "\n",
    "    also known as an error matrix, it is a specific table layout that allows visualization of the performance of an algorithm"
   ]
  },
  {
   "cell_type": "code",
   "execution_count": 56,
   "metadata": {
    "_uuid": "9bce9bb600db5ae91ffaf3211985cc96e5668374"
   },
   "outputs": [
    {
     "name": "stdout",
     "output_type": "stream",
     "text": [
      "[[4638  525]\n",
      " [ 848 1021]]\n"
     ]
    }
   ],
   "source": [
    "# Confusion Matrix\n",
    "from sklearn.metrics import confusion_matrix\n",
    "\n",
    "y_pred = rf.predict(X_train)\n",
    "\n",
    "print(confusion_matrix(Y_train, y_pred))"
   ]
  },
  {
   "cell_type": "code",
   "execution_count": 57,
   "metadata": {
    "_uuid": "258e81f0947917be7d4524dcb19312c473a3e137"
   },
   "outputs": [
    {
     "name": "stdout",
     "output_type": "stream",
     "text": [
      "              precision    recall  f1-score   support\n",
      "\n",
      "           0       0.85      0.90      0.87      5163\n",
      "           1       0.66      0.55      0.60      1869\n",
      "\n",
      "    accuracy                           0.80      7032\n",
      "   macro avg       0.75      0.72      0.73      7032\n",
      "weighted avg       0.80      0.80      0.80      7032\n",
      "\n"
     ]
    }
   ],
   "source": [
    "from sklearn.metrics import classification_report\n",
    "\n",
    "print(classification_report( Y_train, y_pred))"
   ]
  },
  {
   "cell_type": "markdown",
   "metadata": {
    "_uuid": "e0ce7ae295c3dfd6d6436909fb4506c4c6caa30b"
   },
   "source": [
    "**Thank you for reading until the end : )** \n",
    "\n",
    "    I will try to update new version\n",
    "    please vote or comment If you like it ^_^\n",
    "    If you have any suggestion let me know in comment."
   ]
  }
 ],
 "metadata": {
  "kernelspec": {
   "display_name": "Python 3",
   "language": "python",
   "name": "python3"
  },
  "language_info": {
   "codemirror_mode": {
    "name": "ipython",
    "version": 3
   },
   "file_extension": ".py",
   "mimetype": "text/x-python",
   "name": "python",
   "nbconvert_exporter": "python",
   "pygments_lexer": "ipython3",
   "version": "3.7.4"
  }
 },
 "nbformat": 4,
 "nbformat_minor": 1
}
