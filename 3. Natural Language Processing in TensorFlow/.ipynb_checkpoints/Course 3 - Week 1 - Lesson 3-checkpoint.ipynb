{
 "cells": [
  {
   "cell_type": "code",
   "execution_count": 0,
   "metadata": {
    "colab": {},
    "colab_type": "code",
    "id": "zX4Kg8DUTKWO"
   },
   "outputs": [],
   "source": [
    "#@title Licensed under the Apache License, Version 2.0 (the \"License\");\n",
    "# you may not use this file except in compliance with the License.\n",
    "# You may obtain a copy of the License at\n",
    "#\n",
    "# https://www.apache.org/licenses/LICENSE-2.0\n",
    "#\n",
    "# Unless required by applicable law or agreed to in writing, software\n",
    "# distributed under the License is distributed on an \"AS IS\" BASIS,\n",
    "# WITHOUT WARRANTIES OR CONDITIONS OF ANY KIND, either express or implied.\n",
    "# See the License for the specific language governing permissions and\n",
    "# limitations under the License."
   ]
  },
  {
   "cell_type": "markdown",
   "metadata": {
    "colab_type": "text",
    "id": "view-in-github"
   },
   "source": [
    "<a href=\"https://colab.research.google.com/github/lmoroney/dlaicourse/blob/master/TensorFlow%20In%20Practice/Course%203%20-%20NLP/Course%203%20-%20Week%201%20-%20Lesson%203.ipynb\" target=\"_parent\"><img src=\"https://colab.research.google.com/assets/colab-badge.svg\" alt=\"Open In Colab\"/></a>"
   ]
  },
  {
   "cell_type": "markdown",
   "metadata": {
    "colab_type": "text",
    "id": "rX8mhOLljYeM"
   },
   "source": [
    "##### Copyright 2019 The TensorFlow Authors."
   ]
  },
  {
   "cell_type": "code",
   "execution_count": 1,
   "metadata": {
    "cellView": "form",
    "colab": {},
    "colab_type": "code",
    "id": "BZSlp3DAjdYf"
   },
   "outputs": [],
   "source": [
    "#@title Licensed under the Apache License, Version 2.0 (the \"License\");\n",
    "# you may not use this file except in compliance with the License.\n",
    "# You may obtain a copy of the License at\n",
    "#\n",
    "# https://www.apache.org/licenses/LICENSE-2.0\n",
    "#\n",
    "# Unless required by applicable law or agreed to in writing, software\n",
    "# distributed under the License is distributed on an \"AS IS\" BASIS,\n",
    "# WITHOUT WARRANTIES OR CONDITIONS OF ANY KIND, either express or implied.\n",
    "# See the License for the specific language governing permissions and\n",
    "# limitations under the License."
   ]
  },
  {
   "cell_type": "code",
   "execution_count": 6,
   "metadata": {},
   "outputs": [
    {
     "name": "stdout",
     "output_type": "stream",
     "text": [
      "--2021-06-22 01:46:21--  https://storage.googleapis.com/laurencemoroney-blog.appspot.com/sarcasm.json\n",
      "Resolving storage.googleapis.com (storage.googleapis.com)... 172.217.169.240, 142.250.185.48, 142.250.180.48, ...\n",
      "Connecting to storage.googleapis.com (storage.googleapis.com)|172.217.169.240|:443... connected.\n",
      "HTTP request sent, awaiting response... 200 OK\n",
      "Length: 5643545 (5.4M) [application/json]\n",
      "Saving to: ‘sarcasm.json’\n",
      "\n",
      "sarcasm.json        100%[===================>]   5.38M   632KB/s    in 9.9s    \n",
      "\n",
      "2021-06-22 01:46:32 (555 KB/s) - ‘sarcasm.json’ saved [5643545/5643545]\n",
      "\n"
     ]
    }
   ],
   "source": [
    "!wget --no-check-certificate \\\n",
    "    https://storage.googleapis.com/laurencemoroney-blog.appspot.com/sarcasm.json \\\n",
    "    -O sarcasm.json"
   ]
  },
  {
   "cell_type": "code",
   "execution_count": 3,
   "metadata": {},
   "outputs": [],
   "source": [
    "import json "
   ]
  },
  {
   "cell_type": "code",
   "execution_count": 7,
   "metadata": {},
   "outputs": [],
   "source": [
    "with open(\"/home/mazz/Desktop/github/tmp/sarcasm.json\") as fi:\n",
    "    datastore = json.load(fi)"
   ]
  },
  {
   "cell_type": "code",
   "execution_count": 9,
   "metadata": {},
   "outputs": [],
   "source": [
    "sentences =[]\n",
    "labels =[]\n",
    "urls =[]\n",
    "for item in datastore:\n",
    "    sentences.append(item[\"headline\"])\n",
    "    labels.append(item[\"is_sarcastic\"])    \n",
    "    urls.append(item[\"article_link\"])    "
   ]
  },
  {
   "cell_type": "code",
   "execution_count": 10,
   "metadata": {},
   "outputs": [],
   "source": [
    "from tensorflow.keras.preprocessing.text import Tokenizer\n",
    "from tensorflow.keras.preprocessing.sequence import pad_sequences"
   ]
  },
  {
   "cell_type": "code",
   "execution_count": 11,
   "metadata": {},
   "outputs": [],
   "source": [
    "tokenizer = Tokenizer(oov_token='<OOV>')\n",
    "tokenizer.fit_on_texts(sentences)"
   ]
  },
  {
   "cell_type": "code",
   "execution_count": 14,
   "metadata": {},
   "outputs": [],
   "source": [
    "word_index = tokenizer.word_index\n",
    "# tokenizer.word_index"
   ]
  },
  {
   "cell_type": "code",
   "execution_count": 19,
   "metadata": {},
   "outputs": [],
   "source": [
    "sequences = tokenizer.texts_to_sequences(sentences)"
   ]
  },
  {
   "cell_type": "code",
   "execution_count": 20,
   "metadata": {},
   "outputs": [],
   "source": [
    "paddedSequence = pad_sequences(sequences,padding='post')"
   ]
  },
  {
   "cell_type": "code",
   "execution_count": 21,
   "metadata": {},
   "outputs": [
    {
     "name": "stdout",
     "output_type": "stream",
     "text": [
      "former versace store clerk sues over secret 'black code' for minority shoppers\n",
      "[  308 15115   679  3337  2298    48   382  2576 15116     6  2577  8434\n",
      "     0     0     0     0     0     0     0     0     0     0     0     0\n",
      "     0     0     0     0     0     0     0     0     0     0     0     0\n",
      "     0     0     0     0]\n",
      "(26709, 40)\n"
     ]
    }
   ],
   "source": [
    "print(sentences[0])\n",
    "print(paddedSequence[0])\n",
    "print(paddedSequence.shape)"
   ]
  },
  {
   "cell_type": "code",
   "execution_count": null,
   "metadata": {},
   "outputs": [],
   "source": []
  },
  {
   "cell_type": "code",
   "execution_count": 23,
   "metadata": {},
   "outputs": [
    {
     "name": "stdout",
     "output_type": "stream",
     "text": [
      "--2021-06-22 01:57:01--  https://storage.googleapis.com/laurencemoroney-blog.appspot.com/bbc-text.csv\n",
      "Resolving storage.googleapis.com (storage.googleapis.com)... 142.250.185.48, 216.58.208.80, 172.217.169.240, ...\n",
      "Connecting to storage.googleapis.com (storage.googleapis.com)|142.250.185.48|:443... connected.\n",
      "HTTP request sent, awaiting response... 200 OK\n",
      "Length: 5057493 (4.8M) [application/octet-stream]\n",
      "Saving to: ‘/home/mazz/Desktop/github/tmp/bbc-text.csv’\n",
      "\n",
      "/home/mazz/Desktop/ 100%[===================>]   4.82M   902KB/s    in 6.5s    \n",
      "\n",
      "2021-06-22 01:57:09 (766 KB/s) - ‘/home/mazz/Desktop/github/tmp/bbc-text.csv’ saved [5057493/5057493]\n",
      "\n"
     ]
    }
   ],
   "source": [
    "!wget --no-check-certificate \\\n",
    "    https://storage.googleapis.com/laurencemoroney-blog.appspot.com/bbc-text.csv \\\n",
    "    -O /home/mazz/Desktop/github/tmp/bbc-text.csv"
   ]
  },
  {
   "cell_type": "code",
   "execution_count": 26,
   "metadata": {},
   "outputs": [],
   "source": [
    "stopwords=[ \"a\", \"about\", \"above\", \"after\", \"again\", \"against\", \"all\", \"am\", \"an\", \"and\", \"any\", \"are\", \"as\", \"at\", \"be\", \"because\", \"been\", \"before\", \"being\", \"below\", \"between\", \"both\", \"but\", \"by\", \"could\", \"did\", \"do\", \"does\", \"doing\", \"down\", \"during\", \"each\", \"few\", \"for\", \"from\", \"further\", \"had\", \"has\", \"have\", \"having\", \"he\", \"he'd\", \"he'll\", \"he's\", \"her\", \"here\", \"here's\", \"hers\", \"herself\", \"him\", \"himself\", \"his\", \"how\", \"how's\", \"i\", \"i'd\", \"i'll\", \"i'm\", \"i've\", \"if\", \"in\", \"into\", \"is\", \"it\", \"it's\", \"its\", \"itself\", \"let's\", \"me\", \"more\", \"most\", \"my\", \"myself\", \"nor\", \"of\", \"on\", \"once\", \"only\", \"or\", \"other\", \"ought\", \"our\", \"ours\", \"ourselves\", \"out\", \"over\", \"own\", \"same\", \"she\", \"she'd\", \"she'll\", \"she's\", \"should\", \"so\", \"some\", \"such\", \"than\", \"that\", \"that's\", \"the\", \"their\", \"theirs\", \"them\", \"themselves\", \"then\", \"there\", \"there's\", \"these\", \"they\", \"they'd\", \"they'll\", \"they're\", \"they've\", \"this\", \"those\", \"through\", \"to\", \"too\", \"under\", \"until\", \"up\", \"very\", \"was\", \"we\", \"we'd\", \"we'll\", \"we're\", \"we've\", \"were\", \"what\", \"what's\", \"when\", \"when's\", \"where\", \"where's\", \"which\", \"while\", \"who\", \"who's\", \"whom\", \"why\", \"why's\", \"with\", \"would\", \"you\", \"you'd\", \"you'll\", \"you're\", \"you've\", \"your\", \"yours\", \"yourself\", \"yourselves\" ]\n"
   ]
  },
  {
   "cell_type": "code",
   "execution_count": 27,
   "metadata": {},
   "outputs": [],
   "source": [
    "import csv"
   ]
  },
  {
   "cell_type": "code",
   "execution_count": 43,
   "metadata": {},
   "outputs": [
    {
     "name": "stdout",
     "output_type": "stream",
     "text": [
      "2225\n",
      "tv future hands viewers home theatre systems plasma high-definition tvs digital video recorders moving living room way people watch tv will radically different five years time. according expert panel gathered annual consumer electronics show las vegas discuss new technologies will impact one favourite pastimes. us leading trend programmes content will delivered viewers via home networks cable satellite telecoms companies broadband service providers front rooms portable devices. one talked-about technologies ces digital personal video recorders (dvr pvr). set-top boxes like us s tivo uk s sky+ system allow people record store play pause forward wind tv programmes want. essentially technology allows much personalised tv. also built-in high-definition tv sets big business japan us slower take off europe lack high-definition programming. not can people forward wind adverts can also forget abiding network channel schedules putting together a-la-carte entertainment. us networks cable satellite companies worried means terms advertising revenues well brand identity viewer loyalty channels. although us leads technology moment also concern raised europe particularly growing uptake services like sky+. happens today will see nine months years time uk adam hume bbc broadcast s futurologist told bbc news website. likes bbc no issues lost advertising revenue yet. pressing issue moment commercial uk broadcasters brand loyalty important everyone. will talking content brands rather network brands said tim hanlon brand communications firm starcom mediavest. reality broadband connections anybody can producer content. added: challenge now hard promote programme much choice. means said stacey jolna senior vice president tv guide tv group way people find content want watch simplified tv viewers. means networks us terms channels take leaf google s book search engine future instead scheduler help people find want watch. kind channel model might work younger ipod generation used taking control gadgets play them. might not suit everyone panel recognised. older generations comfortable familiar schedules channel brands know getting. perhaps not want much choice put hands mr hanlon suggested. end kids just diapers pushing buttons already - everything possible available said mr hanlon. ultimately consumer will tell market want. 50 000 new gadgets technologies showcased ces many enhancing tv-watching experience. high-definition tv sets everywhere many new models lcd (liquid crystal display) tvs launched dvr capability built instead external boxes. one example launched show humax s 26-inch lcd tv 80-hour tivo dvr dvd recorder. one us s biggest satellite tv companies directtv even launched branded dvr show 100-hours recording capability instant replay search function. set can pause rewind tv 90 hours. microsoft chief bill gates announced pre-show keynote speech partnership tivo called tivotogo means people can play recorded programmes windows pcs mobile devices. reflect increasing trend freeing multimedia people can watch want want.\n"
     ]
    }
   ],
   "source": [
    "sentences = []\n",
    "labels = []\n",
    "with open(\"/home/mazz/Desktop/github/tmp/bbc-text.csv\", 'r') as csvfile:\n",
    "    # Your Code here\n",
    "    csv_reader = csv.reader(csvfile, delimiter=',')\n",
    "    next(csv_reader,None)\n",
    "    for row in csv_reader:\n",
    "        sentence = row[1]\n",
    "        labels.append(row[0])\n",
    "        for word in stopwords:\n",
    "            token= \" \" +  word+ \" \"\n",
    "            sentence = sentence.replace(token, \" \")\n",
    "            sentence = sentence.replace(\"  \", \" \")\n",
    "        sentences.append(sentence)\n",
    "\n",
    "print(len(sentences))\n",
    "print(sentences[0])"
   ]
  },
  {
   "cell_type": "code",
   "execution_count": 46,
   "metadata": {},
   "outputs": [
    {
     "name": "stdout",
     "output_type": "stream",
     "text": [
      "29714\n"
     ]
    }
   ],
   "source": [
    "tokenizer = Tokenizer(oov_token=\"<OOV>\")\n",
    "tokenizer.fit_on_texts(sentences)\n",
    "word_index = tokenizer.word_index\n",
    "print(len(word_index))\n",
    "# Expected output\n",
    "# 29714"
   ]
  },
  {
   "cell_type": "code",
   "execution_count": 47,
   "metadata": {},
   "outputs": [
    {
     "name": "stdout",
     "output_type": "stream",
     "text": [
      "[  96  176 1158 ...    0    0    0]\n",
      "(2225, 2442)\n"
     ]
    }
   ],
   "source": [
    "sequences = tokenizer.texts_to_sequences(sentences)\n",
    "padded = pad_sequences(sequences, padding='post')\n",
    "print(padded[0])\n",
    "print(padded.shape)\n"
   ]
  },
  {
   "cell_type": "code",
   "execution_count": 45,
   "metadata": {},
   "outputs": [],
   "source": []
  },
  {
   "cell_type": "code",
   "execution_count": 49,
   "metadata": {},
   "outputs": [],
   "source": [
    "label_tokenizer = Tokenizer()\n",
    "label_tokenizer.fit_on_texts(sentences)"
   ]
  },
  {
   "cell_type": "code",
   "execution_count": 50,
   "metadata": {},
   "outputs": [],
   "source": [
    "sequences=label_tokenizer.texts_to_sequences(sentences)"
   ]
  },
  {
   "cell_type": "code",
   "execution_count": 52,
   "metadata": {},
   "outputs": [
    {
     "data": {
      "text/plain": [
       "[95,\n",
       " 175,\n",
       " 1157,\n",
       " 1220,\n",
       " 53,\n",
       " 1122,\n",
       " 741,\n",
       " 5214,\n",
       " 84,\n",
       " 1073,\n",
       " 4270,\n",
       " 146,\n",
       " 183,\n",
       " 4130,\n",
       " 1345,\n",
       " 1311,\n",
       " 1596,\n",
       " 46,\n",
       " 8,\n",
       " 948,\n",
       " 95,\n",
       " 3,\n",
       " 6517,\n",
       " 328,\n",
       " 91,\n",
       " 22,\n",
       " 16,\n",
       " 139,\n",
       " 3128,\n",
       " 1331,\n",
       " 2520,\n",
       " 576,\n",
       " 418,\n",
       " 1277,\n",
       " 71,\n",
       " 2962,\n",
       " 3046,\n",
       " 1755,\n",
       " 9,\n",
       " 893,\n",
       " 3,\n",
       " 754,\n",
       " 11,\n",
       " 953,\n",
       " 19515,\n",
       " 10,\n",
       " 655,\n",
       " 1578,\n",
       " 1052,\n",
       " 413,\n",
       " 3,\n",
       " 2001,\n",
       " 1220,\n",
       " 778,\n",
       " 53,\n",
       " 502,\n",
       " 1499,\n",
       " 2114,\n",
       " 1653,\n",
       " 134,\n",
       " 332,\n",
       " 122,\n",
       " 2744,\n",
       " 817,\n",
       " 5215,\n",
       " 1088,\n",
       " 609,\n",
       " 11,\n",
       " 4417,\n",
       " 3850,\n",
       " 893,\n",
       " 2580,\n",
       " 146,\n",
       " 350,\n",
       " 183,\n",
       " 4130,\n",
       " 8815,\n",
       " 5800,\n",
       " 43,\n",
       " 72,\n",
       " 3217,\n",
       " 30,\n",
       " 10,\n",
       " 1,\n",
       " 5476,\n",
       " 21,\n",
       " 1,\n",
       " 1397,\n",
       " 144,\n",
       " 453,\n",
       " 8,\n",
       " 137,\n",
       " 1398,\n",
       " 81,\n",
       " 4601,\n",
       " 488,\n",
       " 5216,\n",
       " 95,\n",
       " 1052,\n",
       " 86,\n",
       " 6518,\n",
       " 82,\n",
       " 2115,\n",
       " 62,\n",
       " 8816,\n",
       " 95,\n",
       " 7,\n",
       " 1123,\n",
       " 620,\n",
       " 84,\n",
       " 1073,\n",
       " 95,\n",
       " 1970,\n",
       " 147,\n",
       " 158,\n",
       " 419,\n",
       " 10,\n",
       " 2878,\n",
       " 45,\n",
       " 55,\n",
       " 148,\n",
       " 1221,\n",
       " 84,\n",
       " 1073,\n",
       " 4418,\n",
       " 4,\n",
       " 12,\n",
       " 8,\n",
       " 488,\n",
       " 5216,\n",
       " 3129,\n",
       " 12,\n",
       " 7,\n",
       " 2693,\n",
       " 6969,\n",
       " 411,\n",
       " 1097,\n",
       " 8817,\n",
       " 1376,\n",
       " 616,\n",
       " 1399,\n",
       " 2080,\n",
       " 14974,\n",
       " 755,\n",
       " 10,\n",
       " 502,\n",
       " 1499,\n",
       " 2114,\n",
       " 134,\n",
       " 1918,\n",
       " 409,\n",
       " 894,\n",
       " 2081,\n",
       " 1619,\n",
       " 42,\n",
       " 1819,\n",
       " 2581,\n",
       " 4999,\n",
       " 5477,\n",
       " 2521,\n",
       " 250,\n",
       " 10,\n",
       " 2635,\n",
       " 82,\n",
       " 818,\n",
       " 7,\n",
       " 1089,\n",
       " 1133,\n",
       " 148,\n",
       " 797,\n",
       " 577,\n",
       " 8818,\n",
       " 135,\n",
       " 30,\n",
       " 1397,\n",
       " 1820,\n",
       " 444,\n",
       " 3,\n",
       " 89,\n",
       " 954,\n",
       " 116,\n",
       " 22,\n",
       " 16,\n",
       " 21,\n",
       " 3396,\n",
       " 19516,\n",
       " 41,\n",
       " 1455,\n",
       " 1,\n",
       " 12599,\n",
       " 27,\n",
       " 41,\n",
       " 98,\n",
       " 361,\n",
       " 2394,\n",
       " 41,\n",
       " 23,\n",
       " 463,\n",
       " 242,\n",
       " 2081,\n",
       " 1377,\n",
       " 340,\n",
       " 5478,\n",
       " 325,\n",
       " 818,\n",
       " 1134,\n",
       " 21,\n",
       " 2636,\n",
       " 1819,\n",
       " 5477,\n",
       " 296,\n",
       " 735,\n",
       " 3,\n",
       " 1176,\n",
       " 413,\n",
       " 2044,\n",
       " 399,\n",
       " 411,\n",
       " 2044,\n",
       " 2,\n",
       " 1312,\n",
       " 12600,\n",
       " 1819,\n",
       " 1853,\n",
       " 69,\n",
       " 19517,\n",
       " 19518,\n",
       " 1794,\n",
       " 332,\n",
       " 1821,\n",
       " 3397,\n",
       " 12,\n",
       " 1201,\n",
       " 413,\n",
       " 47,\n",
       " 856,\n",
       " 20,\n",
       " 269,\n",
       " 2963,\n",
       " 365,\n",
       " 62,\n",
       " 571,\n",
       " 409,\n",
       " 2,\n",
       " 19519,\n",
       " 19520,\n",
       " 670,\n",
       " 1313,\n",
       " 204,\n",
       " 95,\n",
       " 3996,\n",
       " 95,\n",
       " 104,\n",
       " 46,\n",
       " 8,\n",
       " 351,\n",
       " 413,\n",
       " 86,\n",
       " 948,\n",
       " 14975,\n",
       " 95,\n",
       " 1220,\n",
       " 409,\n",
       " 502,\n",
       " 10,\n",
       " 894,\n",
       " 2521,\n",
       " 45,\n",
       " 10924,\n",
       " 850,\n",
       " 1,\n",
       " 546,\n",
       " 402,\n",
       " 1854,\n",
       " 175,\n",
       " 572,\n",
       " 19521,\n",
       " 140,\n",
       " 8,\n",
       " 351,\n",
       " 86,\n",
       " 948,\n",
       " 1202,\n",
       " 1097,\n",
       " 1500,\n",
       " 367,\n",
       " 67,\n",
       " 2045,\n",
       " 1263,\n",
       " 786,\n",
       " 93,\n",
       " 261,\n",
       " 298,\n",
       " 1030,\n",
       " 81,\n",
       " 612,\n",
       " 367,\n",
       " 4,\n",
       " 2582,\n",
       " 735,\n",
       " 1331,\n",
       " 2302,\n",
       " 1668,\n",
       " 6970,\n",
       " 3851,\n",
       " 3218,\n",
       " 8817,\n",
       " 1097,\n",
       " 2044,\n",
       " 184,\n",
       " 394,\n",
       " 1556,\n",
       " 4,\n",
       " 86,\n",
       " 62,\n",
       " 571,\n",
       " 113,\n",
       " 1157,\n",
       " 5,\n",
       " 12600,\n",
       " 974,\n",
       " 99,\n",
       " 3219,\n",
       " 25,\n",
       " 19522,\n",
       " 2349,\n",
       " 8819,\n",
       " 112,\n",
       " 769,\n",
       " 434,\n",
       " 439,\n",
       " 2,\n",
       " 5,\n",
       " 12600,\n",
       " 2637,\n",
       " 418,\n",
       " 3,\n",
       " 1501,\n",
       " 48,\n",
       " 86,\n",
       " 424,\n",
       " 37,\n",
       " 9,\n",
       " 1030,\n",
       " 893,\n",
       " 6971,\n",
       " 2580,\n",
       " 35,\n",
       " 4271,\n",
       " 95,\n",
       " 1722,\n",
       " 851,\n",
       " 84,\n",
       " 1073,\n",
       " 95,\n",
       " 1970,\n",
       " 7522,\n",
       " 35,\n",
       " 9,\n",
       " 1517,\n",
       " 6972,\n",
       " 6973,\n",
       " 4131,\n",
       " 1471,\n",
       " 4270,\n",
       " 647,\n",
       " 8815,\n",
       " 3852,\n",
       " 1123,\n",
       " 572,\n",
       " 4132,\n",
       " 3217,\n",
       " 11,\n",
       " 911,\n",
       " 647,\n",
       " 71,\n",
       " 19523,\n",
       " 1,\n",
       " 1346,\n",
       " 6141,\n",
       " 6972,\n",
       " 95,\n",
       " 1472,\n",
       " 1006,\n",
       " 5476,\n",
       " 8815,\n",
       " 586,\n",
       " 4133,\n",
       " 11,\n",
       " 10,\n",
       " 1,\n",
       " 247,\n",
       " 2114,\n",
       " 95,\n",
       " 134,\n",
       " 19524,\n",
       " 105,\n",
       " 647,\n",
       " 3047,\n",
       " 8815,\n",
       " 71,\n",
       " 500,\n",
       " 711,\n",
       " 2476,\n",
       " 3852,\n",
       " 5217,\n",
       " 3515,\n",
       " 402,\n",
       " 4798,\n",
       " 43,\n",
       " 12,\n",
       " 4601,\n",
       " 9754,\n",
       " 95,\n",
       " 1777,\n",
       " 711,\n",
       " 295,\n",
       " 121,\n",
       " 286,\n",
       " 2808,\n",
       " 343,\n",
       " 656,\n",
       " 71,\n",
       " 3997,\n",
       " 762,\n",
       " 3738,\n",
       " 5476,\n",
       " 162,\n",
       " 19525,\n",
       " 409,\n",
       " 8,\n",
       " 12,\n",
       " 81,\n",
       " 1778,\n",
       " 1052,\n",
       " 824,\n",
       " 873,\n",
       " 88,\n",
       " 609,\n",
       " 3130,\n",
       " 1378,\n",
       " 1578,\n",
       " 9755,\n",
       " 1669,\n",
       " 8,\n",
       " 12,\n",
       " 948,\n",
       " 86,\n",
       " 86]"
      ]
     },
     "execution_count": 52,
     "metadata": {},
     "output_type": "execute_result"
    }
   ],
   "source": [
    "sequences[0]"
   ]
  },
  {
   "cell_type": "code",
   "execution_count": 41,
   "metadata": {},
   "outputs": [],
   "source": []
  },
  {
   "cell_type": "code",
   "execution_count": null,
   "metadata": {},
   "outputs": [],
   "source": []
  },
  {
   "cell_type": "code",
   "execution_count": 38,
   "metadata": {},
   "outputs": [],
   "source": [
    "# word_Index"
   ]
  },
  {
   "cell_type": "code",
   "execution_count": null,
   "metadata": {},
   "outputs": [],
   "source": []
  },
  {
   "cell_type": "code",
   "execution_count": 29,
   "metadata": {
    "colab": {
     "base_uri": "https://localhost:8080/",
     "height": 360
    },
    "colab_type": "code",
    "executionInfo": {
     "elapsed": 6308,
     "status": "ok",
     "timestamp": 1589466633779,
     "user": {
      "displayName": "Agni Iyer",
      "photoUrl": "https://lh5.googleusercontent.com/-t_0Yj_TZMvc/AAAAAAAAAAI/AAAAAAAABNo/ntatgaKFYUI/s64/photo.jpg",
      "userId": "12872450379171189898"
     },
     "user_tz": -330
    },
    "id": "OkaBMeNDwMel",
    "outputId": "c4b8e6fd-e1b3-402d-a89a-851b20fcf903"
   },
   "outputs": [],
   "source": [
    "\n",
    "\n",
    "# from tensorflow.keras.preprocessing.text import Tokenizer\n",
    "# from tensorflow.keras.preprocessing.sequence import pad_sequences\n",
    "# tokenizer = Tokenizer(oov_token=\"<OOV>\")\n",
    "# tokenizer.fit_on_texts(sentences)\n",
    "\n",
    "# word_index = tokenizer.word_index\n",
    "# print(len(word_index))\n",
    "# print(word_index) # Words sorted in descending order of commonality.\n",
    "# sequences = tokenizer.texts_to_sequences(sentences)\n",
    "# padded = pad_sequences(sequences, padding='post')\n",
    "# print(sentences[0])\n",
    "# print(padded[0])\n",
    "# print(padded.shape)"
   ]
  },
  {
   "cell_type": "code",
   "execution_count": 0,
   "metadata": {
    "colab": {},
    "colab_type": "code",
    "id": "lIM8X6mBl_x_"
   },
   "outputs": [],
   "source": []
  }
 ],
 "metadata": {
  "colab": {
   "collapsed_sections": [],
   "name": "Course 3 - Week 1 - Lesson 3.ipynb",
   "provenance": []
  },
  "kernelspec": {
   "display_name": "Python 3",
   "language": "python",
   "name": "python3"
  },
  "language_info": {
   "codemirror_mode": {
    "name": "ipython",
    "version": 3
   },
   "file_extension": ".py",
   "mimetype": "text/x-python",
   "name": "python",
   "nbconvert_exporter": "python",
   "pygments_lexer": "ipython3",
   "version": "3.8.5"
  }
 },
 "nbformat": 4,
 "nbformat_minor": 1
}
