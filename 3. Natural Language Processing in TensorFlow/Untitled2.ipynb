{
 "cells": [
  {
   "cell_type": "code",
   "execution_count": 1,
   "metadata": {},
   "outputs": [],
   "source": [
    "import json\n",
    "import tensorflow as tf\n",
    "\n",
    "from tensorflow.keras.preprocessing.text import Tokenizer\n",
    "from tensorflow.keras.preprocessing.sequence import pad_sequences"
   ]
  },
  {
   "cell_type": "code",
   "execution_count": 2,
   "metadata": {},
   "outputs": [],
   "source": [
    "vocab_size = 10000\n",
    "embedding_dim = 16\n",
    "max_length = 100\n",
    "trunc_type='post'\n",
    "padding_type='post'\n",
    "oov_tok = \"<OOV>\"\n",
    "training_size = 20000"
   ]
  },
  {
   "cell_type": "code",
   "execution_count": 12,
   "metadata": {},
   "outputs": [],
   "source": [
    "with open(\"/home/mazz/Desktop/github/tmp/sarcasm.json\", 'r') as f:\n",
    "    datastore = json.load(f)\n",
    "\n",
    "sentences = []\n",
    "labels = []\n",
    "\n",
    "for item in datastore:\n",
    "    sentences.append(item['headline'])\n",
    "    labels.append(item['is_sarcastic'])"
   ]
  },
  {
   "cell_type": "code",
   "execution_count": 13,
   "metadata": {},
   "outputs": [],
   "source": [
    "training_sentences = sentences[0:training_size]\n",
    "testing_sentences = sentences[training_size:]\n",
    "training_labels = labels[0:training_size]\n",
    "testing_labels = labels[training_size:]"
   ]
  },
  {
   "cell_type": "code",
   "execution_count": 14,
   "metadata": {},
   "outputs": [],
   "source": [
    "tokenizer =Tokenizer(num_words=vocab_size,oov_token=oov_tok)\n",
    "tokenizer.fit_on_texts(sentences)"
   ]
  },
  {
   "cell_type": "code",
   "execution_count": 10,
   "metadata": {},
   "outputs": [],
   "source": [
    "word_index = tokenizer.word_index"
   ]
  },
  {
   "cell_type": "code",
   "execution_count": 15,
   "metadata": {},
   "outputs": [],
   "source": [
    "\n",
    "training_sequences = tokenizer.texts_to_sequences(training_sentences)\n",
    "training_padded = pad_sequences(training_sequences, maxlen=max_length, padding=padding_type, truncating=trunc_type)\n",
    "\n",
    "testing_sequences = tokenizer.texts_to_sequences(testing_sentences)\n",
    "testing_padded = pad_sequences(testing_sequences, maxlen=max_length, padding=padding_type, truncating=trunc_type)"
   ]
  },
  {
   "cell_type": "code",
   "execution_count": 16,
   "metadata": {},
   "outputs": [],
   "source": [
    "# Need this block to get it to work with TensorFlow 2.x\n",
    "import numpy as np\n",
    "training_padded = np.array(training_padded)\n",
    "training_labels = np.array(training_labels)\n",
    "testing_padded = np.array(testing_padded)\n",
    "testing_labels = np.array(testing_labels)"
   ]
  },
  {
   "cell_type": "code",
   "execution_count": 18,
   "metadata": {},
   "outputs": [],
   "source": [
    "# training_padded"
   ]
  },
  {
   "cell_type": "code",
   "execution_count": 19,
   "metadata": {},
   "outputs": [],
   "source": [
    "model = tf.keras.Sequential([\n",
    "    tf.keras.layers.Embedding(vocab_size, embedding_dim, input_length=max_length),\n",
    "    tf.keras.layers.GlobalAveragePooling1D(),\n",
    "    tf.keras.layers.Dense(24, activation='relu'),\n",
    "    tf.keras.layers.Dense(1, activation='sigmoid')\n",
    "])\n",
    "model.compile(loss='binary_crossentropy',optimizer='adam',metrics=['accuracy'])"
   ]
  },
  {
   "cell_type": "code",
   "execution_count": 20,
   "metadata": {},
   "outputs": [
    {
     "name": "stdout",
     "output_type": "stream",
     "text": [
      "Model: \"sequential\"\n",
      "_________________________________________________________________\n",
      "Layer (type)                 Output Shape              Param #   \n",
      "=================================================================\n",
      "embedding (Embedding)        (None, 100, 16)           160000    \n",
      "_________________________________________________________________\n",
      "global_average_pooling1d (Gl (None, 16)                0         \n",
      "_________________________________________________________________\n",
      "dense (Dense)                (None, 24)                408       \n",
      "_________________________________________________________________\n",
      "dense_1 (Dense)              (None, 1)                 25        \n",
      "=================================================================\n",
      "Total params: 160,433\n",
      "Trainable params: 160,433\n",
      "Non-trainable params: 0\n",
      "_________________________________________________________________\n"
     ]
    }
   ],
   "source": [
    "model.summary()"
   ]
  },
  {
   "cell_type": "code",
   "execution_count": 21,
   "metadata": {},
   "outputs": [
    {
     "name": "stdout",
     "output_type": "stream",
     "text": [
      "Epoch 1/30\n",
      "625/625 - 2s - loss: 0.6622 - accuracy: 0.5962 - val_loss: 0.5625 - val_accuracy: 0.7989\n",
      "Epoch 2/30\n",
      "625/625 - 2s - loss: 0.4161 - accuracy: 0.8332 - val_loss: 0.3757 - val_accuracy: 0.8444\n",
      "Epoch 3/30\n",
      "625/625 - 2s - loss: 0.3040 - accuracy: 0.8772 - val_loss: 0.3469 - val_accuracy: 0.8562\n",
      "Epoch 4/30\n",
      "625/625 - 2s - loss: 0.2533 - accuracy: 0.8997 - val_loss: 0.3389 - val_accuracy: 0.8569\n",
      "Epoch 5/30\n",
      "625/625 - 2s - loss: 0.2169 - accuracy: 0.9158 - val_loss: 0.3661 - val_accuracy: 0.8430\n",
      "Epoch 6/30\n",
      "625/625 - 2s - loss: 0.1908 - accuracy: 0.9281 - val_loss: 0.3563 - val_accuracy: 0.8547\n",
      "Epoch 7/30\n",
      "625/625 - 2s - loss: 0.1706 - accuracy: 0.9352 - val_loss: 0.3692 - val_accuracy: 0.8542\n",
      "Epoch 8/30\n",
      "625/625 - 2s - loss: 0.1510 - accuracy: 0.9442 - val_loss: 0.3820 - val_accuracy: 0.8566\n",
      "Epoch 9/30\n",
      "625/625 - 2s - loss: 0.1359 - accuracy: 0.9524 - val_loss: 0.4026 - val_accuracy: 0.8550\n",
      "Epoch 10/30\n",
      "625/625 - 2s - loss: 0.1241 - accuracy: 0.9555 - val_loss: 0.4324 - val_accuracy: 0.8490\n",
      "Epoch 11/30\n",
      "625/625 - 2s - loss: 0.1124 - accuracy: 0.9597 - val_loss: 0.4854 - val_accuracy: 0.8381\n",
      "Epoch 12/30\n",
      "625/625 - 2s - loss: 0.1019 - accuracy: 0.9648 - val_loss: 0.4764 - val_accuracy: 0.8478\n",
      "Epoch 13/30\n",
      "625/625 - 2s - loss: 0.0942 - accuracy: 0.9676 - val_loss: 0.5111 - val_accuracy: 0.8430\n",
      "Epoch 14/30\n",
      "625/625 - 2s - loss: 0.0857 - accuracy: 0.9714 - val_loss: 0.5390 - val_accuracy: 0.8402\n",
      "Epoch 15/30\n",
      "625/625 - 2s - loss: 0.0770 - accuracy: 0.9759 - val_loss: 0.5831 - val_accuracy: 0.8374\n",
      "Epoch 16/30\n",
      "625/625 - 2s - loss: 0.0726 - accuracy: 0.9759 - val_loss: 0.6205 - val_accuracy: 0.8354\n",
      "Epoch 17/30\n",
      "625/625 - 2s - loss: 0.0658 - accuracy: 0.9783 - val_loss: 0.6632 - val_accuracy: 0.8322\n",
      "Epoch 18/30\n",
      "625/625 - 2s - loss: 0.0596 - accuracy: 0.9808 - val_loss: 0.6848 - val_accuracy: 0.8320\n",
      "Epoch 19/30\n",
      "625/625 - 2s - loss: 0.0570 - accuracy: 0.9818 - val_loss: 0.7437 - val_accuracy: 0.8207\n",
      "Epoch 20/30\n",
      "625/625 - 2s - loss: 0.0522 - accuracy: 0.9826 - val_loss: 0.7575 - val_accuracy: 0.8264\n",
      "Epoch 21/30\n",
      "625/625 - 2s - loss: 0.0470 - accuracy: 0.9862 - val_loss: 0.8270 - val_accuracy: 0.8247\n",
      "Epoch 22/30\n",
      "625/625 - 2s - loss: 0.0424 - accuracy: 0.9866 - val_loss: 0.8486 - val_accuracy: 0.8231\n",
      "Epoch 23/30\n",
      "625/625 - 2s - loss: 0.0389 - accuracy: 0.9885 - val_loss: 0.9055 - val_accuracy: 0.8228\n",
      "Epoch 24/30\n",
      "625/625 - 2s - loss: 0.0362 - accuracy: 0.9884 - val_loss: 0.9391 - val_accuracy: 0.8149\n",
      "Epoch 25/30\n",
      "625/625 - 2s - loss: 0.0331 - accuracy: 0.9902 - val_loss: 0.9745 - val_accuracy: 0.8152\n",
      "Epoch 26/30\n",
      "625/625 - 2s - loss: 0.0314 - accuracy: 0.9904 - val_loss: 1.0374 - val_accuracy: 0.8174\n",
      "Epoch 27/30\n",
      "625/625 - 2s - loss: 0.0275 - accuracy: 0.9926 - val_loss: 1.0698 - val_accuracy: 0.8097\n",
      "Epoch 28/30\n",
      "625/625 - 2s - loss: 0.0281 - accuracy: 0.9915 - val_loss: 1.1335 - val_accuracy: 0.8171\n",
      "Epoch 29/30\n",
      "625/625 - 2s - loss: 0.0239 - accuracy: 0.9931 - val_loss: 1.1523 - val_accuracy: 0.8123\n",
      "Epoch 30/30\n",
      "625/625 - 2s - loss: 0.0219 - accuracy: 0.9934 - val_loss: 1.2752 - val_accuracy: 0.8113\n"
     ]
    }
   ],
   "source": [
    "num_epochs = 30\n",
    "history = model.fit(training_padded, training_labels, epochs=num_epochs, validation_data=(testing_padded, testing_labels), verbose=2)"
   ]
  },
  {
   "cell_type": "code",
   "execution_count": null,
   "metadata": {},
   "outputs": [],
   "source": []
  },
  {
   "cell_type": "code",
   "execution_count": 22,
   "metadata": {},
   "outputs": [],
   "source": [
    "import matplotlib.pyplot as plt\n"
   ]
  },
  {
   "cell_type": "code",
   "execution_count": 23,
   "metadata": {},
   "outputs": [
    {
     "data": {
      "image/png": "[encoded data removed]",
      "text/plain": [
       "<Figure size 432x288 with 1 Axes>"
      ]
     },
     "metadata": {
      "needs_background": "light"
     },
     "output_type": "display_data"
    },
    {
     "data": {
      "image/png": "[encoded data removed]",
      "text/plain": [
       "<Figure size 432x288 with 1 Axes>"
      ]
     },
     "metadata": {
      "needs_background": "light"
     },
     "output_type": "display_data"
    }
   ],
   "source": [
    "import matplotlib.pyplot as plt\n",
    "\n",
    "def plot_graphs(history, string):\n",
    "  plt.plot(history.history[string])\n",
    "  plt.plot(history.history['val_'+string])\n",
    "  plt.xlabel(\"Epochs\")\n",
    "  plt.ylabel(string)\n",
    "  plt.legend([string, 'val_'+string])\n",
    "  plt.show()\n",
    "  \n",
    "plot_graphs(history, \"accuracy\")\n",
    "plot_graphs(history, \"loss\")"
   ]
  },
  {
   "cell_type": "code",
   "execution_count": 28,
   "metadata": {},
   "outputs": [],
   "source": [
    "reverse_word_index = dict([(value, key) for (key, value) in word_index.items()])\n"
   ]
  },
  {
   "cell_type": "code",
   "execution_count": 30,
   "metadata": {},
   "outputs": [],
   "source": [
    "# reverse_word_index"
   ]
  },
  {
   "cell_type": "code",
   "execution_count": null,
   "metadata": {},
   "outputs": [],
   "source": []
  },
  {
   "cell_type": "code",
   "execution_count": null,
   "metadata": {},
   "outputs": [],
   "source": []
  },
  {
   "cell_type": "code",
   "execution_count": null,
   "metadata": {},
   "outputs": [],
   "source": []
  }
 ],
 "metadata": {
  "kernelspec": {
   "display_name": "Python 3",
   "language": "python",
   "name": "python3"
  },
  "language_info": {
   "codemirror_mode": {
    "name": "ipython",
    "version": 3
   },
   "file_extension": ".py",
   "mimetype": "text/x-python",
   "name": "python",
   "nbconvert_exporter": "python",
   "pygments_lexer": "ipython3",
   "version": "3.8.5"
  }
 },
 "nbformat": 4,
 "nbformat_minor": 4
}
