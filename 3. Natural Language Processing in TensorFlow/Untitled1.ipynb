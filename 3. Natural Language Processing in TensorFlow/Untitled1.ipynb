{
 "cells": [
  {
   "cell_type": "code",
   "execution_count": 1,
   "metadata": {},
   "outputs": [],
   "source": [
    "from tensorflow.keras.preprocessing.text import one_hot"
   ]
  },
  {
   "cell_type": "code",
   "execution_count": 2,
   "metadata": {},
   "outputs": [],
   "source": [
    "sentences =[\"The glass of milk\",\"The glass of juice\",\"The cup of a tea\",\"I am a good developer\",\"Understanding the meaning of words\",\"your videos are good\"]"
   ]
  },
  {
   "cell_type": "code",
   "execution_count": 3,
   "metadata": {},
   "outputs": [
    {
     "data": {
      "text/plain": [
       "['The glass of milk',\n",
       " 'The glass of juice',\n",
       " 'The cup of a tea',\n",
       " 'I am a good developer',\n",
       " 'Understanding the meaning of words',\n",
       " 'your videos are good']"
      ]
     },
     "execution_count": 3,
     "metadata": {},
     "output_type": "execute_result"
    }
   ],
   "source": [
    "sentences"
   ]
  },
  {
   "cell_type": "code",
   "execution_count": 8,
   "metadata": {},
   "outputs": [],
   "source": [
    "voc_size= 10000"
   ]
  },
  {
   "cell_type": "code",
   "execution_count": null,
   "metadata": {},
   "outputs": [],
   "source": []
  },
  {
   "cell_type": "code",
   "execution_count": 9,
   "metadata": {},
   "outputs": [],
   "source": [
    "one_hot_representation = [ one_hot(word,voc_size) for word in sentences]"
   ]
  },
  {
   "cell_type": "code",
   "execution_count": 11,
   "metadata": {},
   "outputs": [
    {
     "data": {
      "text/plain": [
       "[[2339, 3702, 91, 9609],\n",
       " [2339, 3702, 91, 1084],\n",
       " [2339, 4392, 91, 7, 4774],\n",
       " [9939, 3879, 7, 8863, 1576],\n",
       " [192, 2339, 2631, 91, 9389],\n",
       " [3555, 2082, 6538, 8863]]"
      ]
     },
     "execution_count": 11,
     "metadata": {},
     "output_type": "execute_result"
    }
   ],
   "source": [
    "one_hot_representation"
   ]
  },
  {
   "cell_type": "code",
   "execution_count": 12,
   "metadata": {},
   "outputs": [],
   "source": [
    "from tensorflow.keras.layers import Embedding\n",
    "from tensorflow.keras.preprocessing.sequence import pad_sequences\n",
    "from tensorflow.keras.models import Sequential"
   ]
  },
  {
   "cell_type": "code",
   "execution_count": 13,
   "metadata": {},
   "outputs": [],
   "source": [
    "import numpy as np"
   ]
  },
  {
   "cell_type": "code",
   "execution_count": 14,
   "metadata": {},
   "outputs": [],
   "source": [
    "sent_length =8"
   ]
  },
  {
   "cell_type": "code",
   "execution_count": 15,
   "metadata": {},
   "outputs": [],
   "source": [
    "embeded_docs = pad_sequences(one_hot_representation,padding='pre',maxlen=sent_length)"
   ]
  },
  {
   "cell_type": "code",
   "execution_count": 16,
   "metadata": {},
   "outputs": [
    {
     "data": {
      "text/plain": [
       "array([[   0,    0,    0,    0, 2339, 3702,   91, 9609],\n",
       "       [   0,    0,    0,    0, 2339, 3702,   91, 1084],\n",
       "       [   0,    0,    0, 2339, 4392,   91,    7, 4774],\n",
       "       [   0,    0,    0, 9939, 3879,    7, 8863, 1576],\n",
       "       [   0,    0,    0,  192, 2339, 2631,   91, 9389],\n",
       "       [   0,    0,    0,    0, 3555, 2082, 6538, 8863]], dtype=int32)"
      ]
     },
     "execution_count": 16,
     "metadata": {},
     "output_type": "execute_result"
    }
   ],
   "source": [
    "embeded_docs"
   ]
  },
  {
   "cell_type": "code",
   "execution_count": 17,
   "metadata": {},
   "outputs": [],
   "source": [
    "model = Sequential()"
   ]
  },
  {
   "cell_type": "code",
   "execution_count": 19,
   "metadata": {},
   "outputs": [],
   "source": [
    "model.add(Embedding(voc_size,10,input_length=sent_length))"
   ]
  },
  {
   "cell_type": "code",
   "execution_count": 20,
   "metadata": {},
   "outputs": [],
   "source": [
    "model.compile(\"adam\",\"mse\")"
   ]
  },
  {
   "cell_type": "code",
   "execution_count": 21,
   "metadata": {},
   "outputs": [
    {
     "name": "stdout",
     "output_type": "stream",
     "text": [
      "Model: \"sequential\"\n",
      "_________________________________________________________________\n",
      "Layer (type)                 Output Shape              Param #   \n",
      "=================================================================\n",
      "embedding (Embedding)        (None, 8, 10)             100000    \n",
      "=================================================================\n",
      "Total params: 100,000\n",
      "Trainable params: 100,000\n",
      "Non-trainable params: 0\n",
      "_________________________________________________________________\n"
     ]
    }
   ],
   "source": [
    "model.summary()"
   ]
  },
  {
   "cell_type": "code",
   "execution_count": 23,
   "metadata": {},
   "outputs": [
    {
     "data": {
      "text/plain": [
       "array([[ 0.00344919, -0.01457872,  0.0002371 ,  0.02841579, -0.00929631,\n",
       "        -0.01211017,  0.04804954, -0.00790665, -0.01775001, -0.04053986],\n",
       "       [ 0.00344919, -0.01457872,  0.0002371 ,  0.02841579, -0.00929631,\n",
       "        -0.01211017,  0.04804954, -0.00790665, -0.01775001, -0.04053986],\n",
       "       [ 0.00344919, -0.01457872,  0.0002371 ,  0.02841579, -0.00929631,\n",
       "        -0.01211017,  0.04804954, -0.00790665, -0.01775001, -0.04053986],\n",
       "       [ 0.00344919, -0.01457872,  0.0002371 ,  0.02841579, -0.00929631,\n",
       "        -0.01211017,  0.04804954, -0.00790665, -0.01775001, -0.04053986],\n",
       "       [-0.01108773, -0.02209909,  0.03561089, -0.02719235, -0.04102542,\n",
       "        -0.02008183, -0.03895601, -0.01532997, -0.0490554 , -0.00616463],\n",
       "       [-0.04023419,  0.01940223,  0.02826424,  0.02969653, -0.01323373,\n",
       "        -0.02569503,  0.01653196,  0.00836448, -0.01024408, -0.02870142],\n",
       "       [ 0.03552448,  0.01002486, -0.03560992, -0.01783981, -0.02893585,\n",
       "        -0.04231721, -0.03441609, -0.02766138, -0.01154647, -0.01457479],\n",
       "       [-0.04013214, -0.04272223, -0.0099511 , -0.01186261,  0.03269907,\n",
       "         0.04036495, -0.01423099, -0.0317637 , -0.01940236, -0.02743341]],\n",
       "      dtype=float32)"
      ]
     },
     "execution_count": 23,
     "metadata": {},
     "output_type": "execute_result"
    }
   ],
   "source": [
    "model.predict(embeded_docs)[0]"
   ]
  },
  {
   "cell_type": "code",
   "execution_count": 26,
   "metadata": {},
   "outputs": [
    {
     "data": {
      "text/plain": [
       "6"
      ]
     },
     "execution_count": 26,
     "metadata": {},
     "output_type": "execute_result"
    }
   ],
   "source": [
    "len(model.predict(embeded_docs))"
   ]
  },
  {
   "cell_type": "code",
   "execution_count": null,
   "metadata": {},
   "outputs": [],
   "source": []
  }
 ],
 "metadata": {
  "kernelspec": {
   "display_name": "Python 3",
   "language": "python",
   "name": "python3"
  },
  "language_info": {
   "codemirror_mode": {
    "name": "ipython",
    "version": 3
   },
   "file_extension": ".py",
   "mimetype": "text/x-python",
   "name": "python",
   "nbconvert_exporter": "python",
   "pygments_lexer": "ipython3",
   "version": "3.8.5"
  }
 },
 "nbformat": 4,
 "nbformat_minor": 4
}
